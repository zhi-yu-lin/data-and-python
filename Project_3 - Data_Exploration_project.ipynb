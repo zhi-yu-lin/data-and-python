{
  "nbformat": 4,
  "nbformat_minor": 0,
  "metadata": {
    "colab": {
      "name": "Data Exploration project.ipynb",
      "provenance": [],
      "include_colab_link": true
    },
    "kernelspec": {
      "name": "python3",
      "display_name": "Python 3"
    },
    "language_info": {
      "name": "python"
    }
  },
  "cells": [
    {
      "cell_type": "markdown",
      "metadata": {
        "id": "view-in-github",
        "colab_type": "text"
      },
      "source": [
        "<a href=\"https://colab.research.google.com/github/zhi-yu-lin/data-and-python/blob/main/Project_3%20-%20Data_Exploration_project.ipynb\" target=\"_parent\"><img src=\"https://colab.research.google.com/assets/colab-badge.svg\" alt=\"Open In Colab\"/></a>"
      ]
    },
    {
      "cell_type": "markdown",
      "source": [
        "# Exploring data sets\n",
        "---\n",
        "\n",
        "This [link](https://docs.google.com/document/d/1cijDOCDixsYu-Rr9pC8STPPXado3xoFpgBAZgdDTLHs/edit?usp=sharing) will take you to a list of some of the datasets we use during the Programming for Data course.\n",
        "\n",
        "For this exercise, please choose a dataset to work with."
      ],
      "metadata": {
        "id": "bGQ4E0gGX-PI"
      }
    },
    {
      "cell_type": "markdown",
      "source": [
        "Use the code cell below to play with the data.  Look at what data is included, where there is any null data, if there are any columns that need renaming, removing, new values calculated from them.\n",
        "\n",
        "Form some ideas of what you might want to know from the data and use the techniques you have learned so far to show the answers to these.  You might do this by getting summary statistics, by sorting and showing parts of the dataset, by calculating new values, etc."
      ],
      "metadata": {
        "id": "YkkYGsVOcMpp"
      }
    },
    {
      "cell_type": "markdown",
      "source": [
        "### What to do\n",
        "---\n",
        "\n",
        "Decide what you want to know, explain this in the TEXT cell below, then write some code to get the answer.  When you have done this, add a new text cell below the code cell, explain what you have found.  Then do the same again, adding text cell, code cell, text cell, for something else you would like to know."
      ],
      "metadata": {
        "id": "5P8CecO6clH9"
      }
    },
    {
      "cell_type": "markdown",
      "source": [
        "# Import lib"
      ],
      "metadata": {
        "id": "7G3pgO-Tc7EQ"
      }
    },
    {
      "cell_type": "code",
      "execution_count": 1,
      "metadata": {
        "id": "Omq5otEAX7z8"
      },
      "outputs": [],
      "source": [
        "import requests\n"
      ]
    },
    {
      "cell_type": "markdown",
      "source": [
        "# Read the file"
      ],
      "metadata": {
        "id": "TMiLQMzCTzPJ"
      }
    },
    {
      "cell_type": "code",
      "source": [
        "url = 'https://api.carbonintensity.org.uk/regional'\n",
        "response = requests.get(url)\n",
        "response\n",
        "# print(response.text)"
      ],
      "metadata": {
        "id": "R_GwHrh3Tz_W",
        "outputId": "368d3d35-8884-4c6b-977e-ab6de79960b4",
        "colab": {
          "base_uri": "https://localhost:8080/"
        }
      },
      "execution_count": 4,
      "outputs": [
        {
          "output_type": "execute_result",
          "data": {
            "text/plain": [
              "<Response [200]>"
            ]
          },
          "metadata": {},
          "execution_count": 4
        }
      ]
    },
    {
      "cell_type": "markdown",
      "source": [],
      "metadata": {
        "id": "GTr0QkRxYJvi"
      }
    },
    {
      "cell_type": "code",
      "source": [
        "response.describe()"
      ],
      "metadata": {
        "id": "Dhqa6g8KYM4z",
        "outputId": "0dc73c54-9159-4641-9a7f-ad6f59598308",
        "colab": {
          "base_uri": "https://localhost:8080/",
          "height": 175
        }
      },
      "execution_count": 6,
      "outputs": [
        {
          "output_type": "error",
          "ename": "AttributeError",
          "evalue": "ignored",
          "traceback": [
            "\u001b[0;31m---------------------------------------------------------------------------\u001b[0m",
            "\u001b[0;31mAttributeError\u001b[0m                            Traceback (most recent call last)",
            "\u001b[0;32m<ipython-input-6-901e66aa5ae5>\u001b[0m in \u001b[0;36m<cell line: 1>\u001b[0;34m()\u001b[0m\n\u001b[0;32m----> 1\u001b[0;31m \u001b[0mresponse\u001b[0m\u001b[0;34m.\u001b[0m\u001b[0mdescribe\u001b[0m\u001b[0;34m(\u001b[0m\u001b[0;34m)\u001b[0m\u001b[0;34m\u001b[0m\u001b[0;34m\u001b[0m\u001b[0m\n\u001b[0m",
            "\u001b[0;31mAttributeError\u001b[0m: 'Response' object has no attribute 'describe'"
          ]
        }
      ]
    }
  ]
}