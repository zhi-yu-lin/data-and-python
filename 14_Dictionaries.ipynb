{
 "cells": [
  {
   "cell_type": "markdown",
   "metadata": {
    "colab_type": "text",
    "id": "view-in-github"
   },
   "source": [
    "<a href=\"https://colab.research.google.com/github/futureCodersSE/python-fundamentals/blob/main/Worksheet_Dictionaries.ipynb\" target=\"_parent\"><img src=\"https://colab.research.google.com/assets/colab-badge.svg\" alt=\"Open In Colab\"/></a>"
   ]
  },
  {
   "cell_type": "markdown",
   "metadata": {
    "id": "AiiF1h2X4PHP"
   },
   "source": [
    "# Dictionaries\n",
    "\n",
    "---\n",
    "\n",
    "A **dictionary** is a collection of dissimilar data stored together in one *record*. Each item of data has a  (or key) that describes its paired value.  \n",
    "\n",
    "Create a dictionary object by declaring the set of keys and values, e.g.:\n",
    "\n",
    "```\n",
    "   transport = {\n",
    "       \"type\":\"bus\",\n",
    "       \"numPassengers\":72,\n",
    "       \"colour\":\"blue\",\n",
    "       \"fuel\":\"diesel\"\n",
    "   }\n",
    "```\n",
    "\n",
    "To access a value in a dictionary, use its key:  \n",
    "\n",
    "```\n",
    "transport[\"type\"] = \"coach\"\n",
    "transport_type = transport[\"type\"]\n",
    "transport_colour = transport[\"colour\"]\n",
    "transport[\"fuel\"] = petrol\n",
    "```\n",
    "\n",
    "To add a new key/value pair to a dictionary, simply assign a value to a new key:  \n",
    "```\n",
    "transport[\"seats\"] = 54\n",
    "```\n",
    "\n",
    "The transport dictionary will now look like this:  \n",
    "```\n",
    "   transport = {\n",
    "       \"type\":\"bus\",\n",
    "       \"numPassengers\":72,\n",
    "       \"colour\":\"blue\",\n",
    "       \"fuel\":\"diesel\",\n",
    "       \"seats\":54\n",
    "   }\n",
    "```\n",
    "\n"
   ]
  },
  {
   "cell_type": "markdown",
   "metadata": {
    "id": "1uZ5kNWB6CqK"
   },
   "source": [
    "---\n",
    "### Exercise 1 - print dictionary\n",
    "\n",
    "Write a function which will:  \n",
    "\n",
    "*  create an empty dictionary for a person (name, age and postcode, with values \"\", 0 and \"\")\n",
    "*  ask the user for name, age and postcode and assign the values to the correct keys in the dictionary  \n",
    "*  print the dictionary\n",
    "\n",
    "Test input:  \n",
    "Jack Jones  \n",
    "16  \n",
    "AB5 3DF  \n",
    "\n",
    "Expected output:  \n",
    "```{'name':'Jack Jones', 'age':16, 'postcode':'AB5 3DF'}```"
   ]
  },
  {
   "cell_type": "code",
   "execution_count": null,
   "metadata": {
    "id": "Ac7VQTj94Mrc"
   },
   "outputs": [],
   "source": []
  },
  {
   "cell_type": "markdown",
   "metadata": {
    "id": "0OtNqNKv7WKm"
   },
   "source": [
    "---\n",
    "### Exercise 2 - create a dictionary\n",
    "\n",
    "Write a function that will create two dictionaries,without values:  \n",
    "\n",
    "1.  person (with keys firstname, surname, birthdate, postcode)  \n",
    "2.  car (with key/value pairs as follows:  make - Vauxhall, model - Corsa, engineSize - 1199, fuelType - unleaded, num_doors - 4)  \n",
    "\n",
    "*   ask the user to enter the values for the person dictionary  \n",
    "*   print, on one line, the person's name from the person dictionary and the make of the car from the car dictionary.\n",
    "\n",
    "Test input:  \n",
    "Jack  \n",
    "Jones  \n",
    "2005/02/02    \n",
    "AB5 3DF  \n",
    "\n",
    "Expected output:  \n",
    "Jack Jones Vauxhall"
   ]
  },
  {
   "cell_type": "code",
   "execution_count": 3,
   "metadata": {
    "id": "ZyqhaBCC-GdI"
   },
   "outputs": [
    {
     "name": "stdout",
     "output_type": "stream",
     "text": [
      "Jack\n",
      "Johns\n",
      "2005/02/02\n",
      "AB5 3DF\n",
      "Jack Johns Vauxhall\n"
     ]
    }
   ],
   "source": [
    "person = {\n",
    "    'firstname' : \"\",\n",
    "    'surname'  : \"\",\n",
    "    'birthdate' : \"\",\n",
    "    'postdoc' : \"\"\n",
    "}\n",
    "\n",
    "car = {\n",
    "    \"make\" : \"Vauxhall\",\n",
    "    \"model\" : \"Corsa\",\n",
    "    \"engineSize\" : \"1199\", \n",
    "    \"fuelType\" : \"unleaded\", \n",
    "    \"num_doors\" : 4\n",
    "}\n",
    "\n",
    "person['firstname'] = input()\n",
    "person['surname'] = input()\n",
    "person['birthdate'] = input()\n",
    "person['postdoc'] = input()\n",
    "\n",
    "print(person['firstname'], person['surname'], car['make'])"
   ]
  },
  {
   "cell_type": "markdown",
   "metadata": {
    "id": "gYuuOUYw-G4I"
   },
   "source": [
    "---\n",
    "### Exercise 3 - check dictionary values\n",
    "\n",
    "Write a new function which will:\n",
    "\n",
    "*  set up the same two dictionaries as in Exercise 2  \n",
    "*  ask the user to enter the details to complete the person record  \n",
    "*  calculate the person's age  \n",
    "*  if the person is under 17 then print a message to say that they can't buy a car as they are too young to drive\n",
    "*  else if the person is under 25 then print a message to say that an engine size under 1200 is recommended  \n",
    "*  ask the user to enter the make of car that the person is looking for  \n",
    "*  if the user enters the same make as that stored in the car record, then print a message to say that you have one car of that make in stock and print all the details of the car that you have the record for\n",
    "*  else (if the user enters any other car make) then print a message to say sorry that you don't have any cars of that make in stock\n",
    "*  print a message to say that the user can get more details for stockist in the <user's postcode> area if they call 01234567890\n",
    "*  print a message to say \"Thank you <user's name> for using our site\"  \n",
    "\n",
    "Test input:  \n",
    "Jack  \n",
    "Jones  \n",
    "2005/02/02  \n",
    "AB5 3DF  \n",
    "Vauxhall  \n",
    "\n",
    "Expected output:  \n",
    "You are too young to drive\n",
    "\n",
    "Test input:  \n",
    "John  \n",
    "Jones  \n",
    "2003/02/02  \n",
    "AB5 3DF  \n",
    "Vauxhall \n",
    "\n",
    "Expected output:  \n",
    "An engine size under 1200 is recommended  \n",
    "We have one Vauxhall in stock, details:  \n",
    "Make - Vauxhall    \n",
    "Model - Corsa    \n",
    "Engine size - 1199  \n",
    "Fuel type - unleaded   \n",
    "Number of doors - 4  \n",
    "You can get more details of stockists near AB5 3DF on 01234567890  \n",
    "Thank you John Jones for using our site.     \n",
    "\n",
    "Test input:  \n",
    "John  \n",
    "Jones  \n",
    "2003/02/02  \n",
    "AB5 3DF  \n",
    "Ford  \n",
    "\n",
    "Expected output:  \n",
    "An engine size under 1200 is recommended  \n",
    "Sorry, we don't have any of that make in stock  \n"
   ]
  },
  {
   "cell_type": "code",
   "execution_count": 4,
   "metadata": {
    "id": "Wp9Il2JG_hDh"
   },
   "outputs": [
    {
     "name": "stdout",
     "output_type": "stream",
     "text": [
      "fas\n",
      "fsdf\n",
      "2010/02/02\n",
      "daw\n",
      "You are too young to drive\n"
     ]
    }
   ],
   "source": [
    "from datetime import datetime\n",
    "\n",
    "person = {\n",
    "    'firstname' : \"\",\n",
    "    'surname'  : \"\",\n",
    "    'birthdate' : \"\",\n",
    "    'postdoc' : \"\"\n",
    "}\n",
    "\n",
    "car = {\n",
    "    \"make\" : \"Vauxhall\",\n",
    "    \"model\" : \"Corsa\",\n",
    "    \"engineSize\" : \"1199\", \n",
    "    \"fuelType\" : \"unleaded\", \n",
    "    \"num_doors\" : 4\n",
    "}\n",
    "\n",
    "person['firstname'] = input()\n",
    "person['surname'] = input()\n",
    "person['birthdate'] = input()\n",
    "person['postdoc'] = input()\n",
    "\n",
    "birthday = datetime.strptime(person['birthdate'], '%Y/%m/%d')\n",
    "today = datetime.now()\n",
    "dvalue = (today - birthday).days\n",
    "if dvalue < 18 * 365:\n",
    "    print(\"You are too young to drive\")\n"
   ]
  },
  {
   "cell_type": "markdown",
   "metadata": {
    "id": "I6dUiRwn7Gkg"
   },
   "source": [
    "---\n",
    "### Exercise 4 - print keys and values\n",
    "\n",
    "Two dictionaries have been created below.  You can print a list of the dictionary's keys using `dictionary_name.keys()` and the values using `dictionary_name.values()`\n",
    "\n",
    "Write a function which will accept a dictionary as a parameter and will:  \n",
    "*  print the dictionary keys as a list   \n",
    "*  print the dictionary values as a list  \n",
    "\n",
    "*Hint*:  you will need to cast the keys as a list (`list(dictionary_name.keys()`)  and do the same for the values.\n",
    "\n",
    "**Expected Output**\n",
    "\n",
    "Input: English  \n",
    "Output: \n",
    "['Andy', 'Angela']  \n",
    "[95, 53]  \n",
    "\n",
    "Input: Maths  \n",
    "Output:  \n",
    "['Andy', 'Angela']  \n",
    "[58, 72] \n",
    " \n",
    "\n",
    "\n"
   ]
  },
  {
   "cell_type": "code",
   "execution_count": 5,
   "metadata": {
    "id": "FApOckhJEsMs"
   },
   "outputs": [
    {
     "name": "stdout",
     "output_type": "stream",
     "text": [
      "['Andy', 'Angela']\n",
      "[95, 53]\n",
      "['Andy', 'Angela']\n",
      "[58, 72]\n"
     ]
    }
   ],
   "source": [
    "def display_dictionary(scores):\n",
    "  #  add your code below this line\n",
    "    print(list(scores.keys()))\n",
    "    print(list(scores.values()))\n",
    "          \n",
    "english_scores = {'Andy': 95, 'Angela': 53}\n",
    "maths_scores = {'Andy': 58, 'Angela': 72}\n",
    "display_dictionary(english_scores)\n",
    "display_dictionary(maths_scores)"
   ]
  },
  {
   "cell_type": "markdown",
   "metadata": {
    "id": "segSpkmBFSJl"
   },
   "source": [
    "---\n",
    "### Exercise 5 - add field\n",
    "\n",
    "Write a function which will:\n",
    "\n",
    "*  create a new dictionary called **science_scores** with values of 0 for both Andy and Angela\n",
    "*  update Andy's score for science to 73 and Angela's score to 73   \n",
    "*  create a new key/value pair by adding another learner to the `science_scores`  dictionary (George has a score of 55)    \n",
    "*  print the `science_scores` dictionary to check results  \n",
    "\n",
    "Expected Output\n",
    "\n",
    "{'Andy': 73, 'Angela': 73, 'George': 55}"
   ]
  },
  {
   "cell_type": "code",
   "execution_count": 7,
   "metadata": {
    "id": "BL1JM-Z7Gttf"
   },
   "outputs": [
    {
     "name": "stdout",
     "output_type": "stream",
     "text": [
      "{'Andy': 73, 'Angela': 73, 'George': 55}\n"
     ]
    }
   ],
   "source": [
    "science_scores = {\n",
    "    'Andy': 0, \n",
    "    'Angela': 0\n",
    "}\n",
    "\n",
    "science_scores['Andy'] = 73\n",
    "science_scores['Angela'] = 73\n",
    "science_scores['George'] = 55\n",
    "\n",
    "print(science_scores)"
   ]
  },
  {
   "cell_type": "markdown",
   "metadata": {
    "id": "_Vzv0zlHGt-C"
   },
   "source": [
    "---\n",
    "### Exercise 6 - loop through keys/value pairs\n",
    "\n",
    "Write a function which will use a *for* loop to print the each key/value pair in the science dictionary (recreate this dictionary in this function) \n",
    "\n",
    "*(Hint: you can iterate through the key/value pairs in the dictionary in the same way as you iterate through a loop (e.g. for record in dictionary) and print the record (which is the key) and its value)*\n",
    "\n",
    "Expected output:  \n",
    "\n",
    "Angela 72  \n",
    "Andy 72  \n",
    "George 55  "
   ]
  },
  {
   "cell_type": "code",
   "execution_count": 4,
   "metadata": {
    "id": "JL40_-W-Hxnt"
   },
   "outputs": [
    {
     "name": "stdout",
     "output_type": "stream",
     "text": [
      "Andy 73\n",
      "Angela 73\n",
      "George 55\n"
     ]
    }
   ],
   "source": [
    "science_scores = {\n",
    "    'Andy': 0, \n",
    "    'Angela': 0,\n",
    "    'George' : 0\n",
    "}\n",
    "\n",
    "science_scores['Andy'] = 73\n",
    "science_scores['Angela'] = 73\n",
    "science_scores['George'] = 55\n",
    "\n",
    "for key, value in science_scores.items():\n",
    "    print(key, value)"
   ]
  },
  {
   "cell_type": "markdown",
   "metadata": {
    "id": "G9wamxzRJdrE"
   },
   "source": [
    "---\n",
    "### Exercise 7 - generate new dictionary  \n",
    "\n",
    "Write a functions which will:\n",
    "*  create a new dictionary where the keys are numbers between 1 and 15 (both included) and the values are square of keys\n",
    "*  print the dictionary\n",
    "\n",
    "Expected output:  \n",
    "{1: 1, 2: 4, 3: 9, 4: 16, 5: 25, 6: 36, 7: 49, 8: 64, 9: 81, 10: 100, 11: 121, 12: 144, 13: 169, 14: 196, 15: 225}"
   ]
  },
  {
   "cell_type": "code",
   "execution_count": 12,
   "metadata": {
    "id": "1-LI-LVrJ--N"
   },
   "outputs": [
    {
     "name": "stdout",
     "output_type": "stream",
     "text": [
      "{1: 1, 2: 4, 3: 9, 4: 16, 5: 25, 6: 36, 7: 49, 8: 64, 9: 81, 10: 100, 11: 121, 12: 144, 13: 169, 14: 196, 15: 225}\n"
     ]
    }
   ],
   "source": [
    "dic = {}\n",
    "for i in range(1, 16):\n",
    "    dic[i] = i ** 2\n",
    "print(dic)"
   ]
  },
  {
   "cell_type": "markdown",
   "metadata": {
    "id": "t0y4mefwJ_jQ"
   },
   "source": [
    "---\n",
    "### Exercise 8 - colour dictionary  \n",
    "\n",
    "Write a function which will:  \n",
    "*  create a new dictionary record called colour_codes with the values 'red' - '#FF0000', 'green' - '#008000', 'black' - '#000000', 'white' - '#FFFFFF'\n",
    "*  add a new colour code:  'blue' - '#0000FF'    \n",
    "*  remove the colours black and white from the dictionary  \n",
    "\n",
    "*Hint:  there is a list of methods [here](https://www.w3schools.com/python/python_ref_dictionary.asp)*  "
   ]
  },
  {
   "cell_type": "code",
   "execution_count": 16,
   "metadata": {
    "id": "yod1mUNOMeWg"
   },
   "outputs": [
    {
     "name": "stdout",
     "output_type": "stream",
     "text": [
      "{'red': '#FF0000', 'green': '#008000', 'black': '#000000', 'white': '#FFFFFF', 'blue': '#0000FF'}\n",
      "{'red': '#FF0000', 'green': '#008000', 'blue': '#0000FF'}\n"
     ]
    }
   ],
   "source": [
    "colour_codes = {\n",
    "    'red' : '#FF0000', \n",
    "    'green' : '#008000', \n",
    "    'black' : '#000000', \n",
    "    'white' : '#FFFFFF'\n",
    "}\n",
    "colour_codes['blue'] = '#0000FF'\n",
    "print(colour_codes)\n",
    "\n",
    "del colour_codes['black']\n",
    "del colour_codes['white']\n",
    "print(colour_codes)"
   ]
  },
  {
   "cell_type": "markdown",
   "metadata": {
    "id": "gjos_0vuMeyS"
   },
   "source": [
    "---\n",
    "### Exercise 9 - item tuples  \n",
    "\n",
    "Write a function which will:  \n",
    "*  create a new dictionary containing the colour codes for red, green, blue, black and white\n",
    "*  print the key/value pairs of a dictionary as a list of tuples  \n",
    "\n",
    "*Hint:  iterate through colours.items()*"
   ]
  },
  {
   "cell_type": "code",
   "execution_count": 5,
   "metadata": {
    "id": "EzuMkUypOKTY"
   },
   "outputs": [
    {
     "name": "stdout",
     "output_type": "stream",
     "text": [
      "[('red', '#FF0000'), ('green', '#008000'), ('black', '#000000'), ('white', '#FFFFFF'), ('blue', '#0000FF')]\n"
     ]
    }
   ],
   "source": [
    "colour_codes = {\n",
    "    'red' : '#FF0000', \n",
    "    'green' : '#008000', \n",
    "    'black' : '#000000', \n",
    "    'white' : '#FFFFFF',\n",
    "    'blue' : '#0000FF'\n",
    "}\n",
    "print(list(colour_codes.items()))"
   ]
  },
  {
   "cell_type": "markdown",
   "metadata": {
    "id": "Jw1ot10cOc6r"
   },
   "source": [
    "---\n",
    "### Exercise 10 - check if empty\n",
    "Taken from w3resouce.com  \n",
    "\n",
    "Write a function which will check if a dictionary is empty or not\n",
    "\n",
    "*Hint:  you can use bool(dictionary_name), if the dictionary is empty then bool(dictionary_name will be false)*\n",
    "\n",
    "Test 1 sample data:\n",
    "{}\n",
    "\n",
    "Expected output:\n",
    "Dictionary is empty  \n",
    "\n",
    "Test 2 sample data:  \n",
    "{\"name\":\"Groucho\", \"occupation\":\"comedian\"}\n",
    "\n",
    "Expected output:  \n",
    "Dictionary is not empty"
   ]
  },
  {
   "cell_type": "code",
   "execution_count": 8,
   "metadata": {
    "id": "7UdM1TfwRqnt"
   },
   "outputs": [
    {
     "ename": "AttributeError",
     "evalue": "'dict' object has no attribute 'count'",
     "output_type": "error",
     "traceback": [
      "\u001b[0;31m---------------------------------------------------------------------------\u001b[0m",
      "\u001b[0;31mAttributeError\u001b[0m                            Traceback (most recent call last)",
      "Cell \u001b[0;32mIn[8], line 8\u001b[0m\n\u001b[1;32m      5\u001b[0m         \u001b[38;5;28mprint\u001b[39m(dictionary_name)\n\u001b[1;32m      7\u001b[0m dic \u001b[38;5;241m=\u001b[39m {}\n\u001b[0;32m----> 8\u001b[0m check_empty(dic)\n",
      "Cell \u001b[0;32mIn[8], line 2\u001b[0m, in \u001b[0;36mcheck_empty\u001b[0;34m(dictionary_name)\u001b[0m\n\u001b[1;32m      1\u001b[0m \u001b[38;5;28;01mdef\u001b[39;00m \u001b[38;5;21mcheck_empty\u001b[39m(dictionary_name):\n\u001b[0;32m----> 2\u001b[0m     \u001b[38;5;28;01mif\u001b[39;00m dictionary_name\u001b[38;5;241m.\u001b[39mcount(items) \u001b[38;5;241m==\u001b[39m \u001b[38;5;241m0\u001b[39m:\n\u001b[1;32m      3\u001b[0m         \u001b[38;5;28mprint\u001b[39m(\u001b[38;5;124m\"\u001b[39m\u001b[38;5;124mDictionary is empty\u001b[39m\u001b[38;5;124m\"\u001b[39m)\n\u001b[1;32m      4\u001b[0m     \u001b[38;5;28;01melse\u001b[39;00m:\n",
      "\u001b[0;31mAttributeError\u001b[0m: 'dict' object has no attribute 'count'"
     ]
    }
   ],
   "source": [
    "def check_empty(dictionary_name):\n",
    "    if dictionary_name.items() == 0:\n",
    "        print(\"Dictionary is empty\")\n",
    "    else:\n",
    "        print(dictionary_name)\n",
    "\n",
    "dic = {}\n",
    "check_empty(dic)"
   ]
  },
  {
   "cell_type": "code",
   "execution_count": null,
   "metadata": {},
   "outputs": [],
   "source": []
  }
 ],
 "metadata": {
  "colab": {
   "authorship_tag": "ABX9TyOXz3BP38MLyDWjZINwn9JU",
   "collapsed_sections": [],
   "include_colab_link": true,
   "name": "Worksheet - Dictionaries.ipynb",
   "provenance": []
  },
  "kernelspec": {
   "display_name": "Python 3 (ipykernel)",
   "language": "python",
   "name": "python3"
  },
  "language_info": {
   "codemirror_mode": {
    "name": "ipython",
    "version": 3
   },
   "file_extension": ".py",
   "mimetype": "text/x-python",
   "name": "python",
   "nbconvert_exporter": "python",
   "pygments_lexer": "ipython3",
   "version": "3.11.4"
  }
 },
 "nbformat": 4,
 "nbformat_minor": 1
}
