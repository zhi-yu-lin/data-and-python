{
  "nbformat": 4,
  "nbformat_minor": 0,
  "metadata": {
    "colab": {
      "name": "SelectionChallenge.ipynb",
      "provenance": [],
      "include_colab_link": true
    },
    "kernelspec": {
      "name": "python3",
      "display_name": "Python 3"
    }
  },
  "cells": [
    {
      "cell_type": "markdown",
      "metadata": {
        "id": "view-in-github",
        "colab_type": "text"
      },
      "source": [
        "<a href=\"https://colab.research.google.com/github/zhi-yu-lin/data-and-python/blob/main/07_SelectionChallenge.ipynb\" target=\"_parent\"><img src=\"https://colab.research.google.com/assets/colab-badge.svg\" alt=\"Open In Colab\"/></a>"
      ]
    },
    {
      "cell_type": "markdown",
      "metadata": {
        "id": "-QxAKPD8DZfj"
      },
      "source": [
        "# Three selection challenges\n",
        "\n",
        "---\n"
      ]
    },
    {
      "cell_type": "markdown",
      "metadata": {
        "id": "2KYUALILDcM9"
      },
      "source": [
        "### Challenge 1 - password format  \n",
        "\n",
        "Write a function called **check_password_valid()** which will check the validity of a **password** input by a user.\n",
        "\n",
        "Rules for a valid password are:  \n",
        "\n",
        "*  At least 1 letter between [a-z] and 1 letter between [A-Z].\n",
        "*  At least 1 number between [0-9].\n",
        "*  At least 1 character from [$#@].\n",
        "*  Minimum length 6 characters.\n",
        "*  Maximum length 16 characters.  \n",
        "\n",
        "Let the user know if the `password` they have typed is valid and, if not, where was the first error.\n",
        "\n",
        "*Hint:  to test if a set of characters is present in a password String, you can use re.search('[character set]', `password`)*  \n",
        "\n",
        "Example:   \n",
        "*if re.search('[a-z]',`password`):*    \n",
        "if there is at least 1 character a-z in the password, re.search will not be None.\n",
        "\n",
        "**re** is a pre-written Python function for pattern searching in Strings.  It has been imported for you in the code cell below.  "
      ]
    },
    {
      "cell_type": "code",
      "metadata": {
        "id": "8wBK9IA4BO2e",
        "outputId": "6f82e9c0-fc9a-4e4d-ea2e-7998dd01c7f9",
        "colab": {
          "base_uri": "https://localhost:8080/"
        }
      },
      "source": [
        "import re\n",
        "# add your check_PasswordValid() function and call below here\n",
        "password = input(\"Enter your password: \");\n",
        "count = [0, 0, 0, 0, 0]\n",
        "if re.search('[a-z]',password):\n",
        "  count[0] += 1\n",
        "if re.search('[A-Z]',password):\n",
        "  count[1] += 1\n",
        "if re.search('[A-Z]',password):\n",
        "  count[2] += 1\n",
        "if re.search('[$, #, @]',password):\n",
        "  count[3] += 1\n",
        "if 16 >= len(password) >= 6:\n",
        "  count[4] = 1\n",
        "\n",
        "bool = True\n",
        "for i in range(0,5):\n",
        "  if count[i] == 0:\n",
        "    if i == 0:\n",
        "      print(\"At least 1 letter between [a-z]\")\n",
        "      bool = False\n",
        "    elif i == 1:\n",
        "      print(\"At least 1 letter between [A-Z]\")\n",
        "      bool = False\n",
        "    elif i == 2:\n",
        "      print(\"At least 1 letter between [0-9]\")\n",
        "      bool = False\n",
        "    elif i == 3:\n",
        "      print(\"At least 1 letter between [$#@]\")\n",
        "      bool = False\n",
        "    elif i == 4:\n",
        "      print(\"Minimum length 6 characters. Maximum length 16 characters.\")\n",
        "      bool = False\n",
        "\n",
        "if bool:\n",
        "  print(\"valid passwords\")\n",
        "\n",
        "\n",
        "\n",
        "\n",
        "\n"
      ],
      "execution_count": 15,
      "outputs": [
        {
          "output_type": "stream",
          "name": "stdout",
          "text": [
            "Enter your password: 1232saSS$\n",
            "valid passwords\n"
          ]
        }
      ]
    },
    {
      "cell_type": "markdown",
      "metadata": {
        "id": "f0R4GYTEFQS-"
      },
      "source": [
        "---\n",
        "### Challenge 2 - triangle shape  \n",
        "\n",
        "Write a function called **evaluate_triangle_shape()** which will check if a triangle is equilateral, isosceles or scalene, based on the three side lengths entered by a user (**x**, **y** and **z**.\n",
        "\n",
        "An equilateral triangle is a triangle in which all three sides are equal.\n",
        "A scalene triangle is a triangle that has three unequal sides.\n",
        "An isosceles triangle is a triangle with (at least) two equal sides.\n",
        "\n",
        "For example:  \n",
        "A triange with side lengths                                 \n",
        "x: 6                                                                    \n",
        "y: 8                                                                    \n",
        "z: 12                                                                   \n",
        "is a *Scalene triangle*\n",
        "\n",
        "A triangle with side lengths\n",
        "x:5  \n",
        "y:3   \n",
        "z:5  \n",
        "is an *Isosceles triangle*"
      ]
    },
    {
      "cell_type": "code",
      "metadata": {
        "id": "oBgl4ro1DVL0",
        "outputId": "78b3ef4c-b84a-4621-db14-f03d7e196636",
        "colab": {
          "base_uri": "https://localhost:8080/"
        }
      },
      "source": [
        "x = int(input())\n",
        "y = int(input())\n",
        "z = int(input())\n",
        "\n",
        "if x == y and y == z:\n",
        "  print(\"equilateral triangle\")\n",
        "elif x == y or y == z or x == z:\n",
        "  print(\"isosceles triangle\")\n",
        "elif x != y and x != z and y != z:\n",
        "  print(\"scalene triangle\")"
      ],
      "execution_count": 18,
      "outputs": [
        {
          "output_type": "stream",
          "name": "stdout",
          "text": [
            "5\n",
            "4\n",
            "5\n",
            "isosceles triangle\n"
          ]
        }
      ]
    },
    {
      "cell_type": "markdown",
      "metadata": {
        "id": "hr2EotkqG33l"
      },
      "source": [
        "---\n",
        "### Challenge 3 - which season\n",
        "\n",
        "Write a function called **determine_season()** which will ask the user to enter two integers representing a **month** and **day** and prints the season for that month and day.\n",
        "\n",
        "Note:  for this exercise the season dates are:\n",
        "*  Winter December 21 to March 20    \n",
        "*  Spring March 21 to June 20  \n",
        "*  Summer June 21 to September 20  \n",
        "*  Autumn September 21 to December 20\n",
        "\n",
        "Test input:  \n",
        "Input the month (e.g. January, February etc.): 7                     \n",
        "Input the day: 31                                                       \n",
        "\n",
        "Expected output:  \n",
        "Season is summer\n",
        "\n",
        "*Note: this will require multiple and or or operators and you should use brackets to help Python know which operations to do first*  \n",
        "\n",
        "*For an extra challenge you can check that the day is valid for the month*"
      ]
    },
    {
      "cell_type": "code",
      "metadata": {
        "id": "cvbfz8nzG4IL",
        "outputId": "db071163-59a9-4b6c-d02b-6084f1ffdd4c",
        "colab": {
          "base_uri": "https://localhost:8080/"
        }
      },
      "source": [
        "x = int(input(\"Input the month: \"))\n",
        "y = int(input(\"Input the day: \"))\n",
        "\n",
        "def input_date(x, y):\n",
        "  if x < 1 or x > 12:\n",
        "    print(\"invailid month\")\n",
        "    return False\n",
        "  if y < 1:\n",
        "    print(\"invalid day\")\n",
        "    return False\n",
        "  elif (x == 1 or x == 3 or x == 5 or x == 7 or x == 8 or x == 10 or x == 12) and y > 31:\n",
        "    print(\"invalid day\")\n",
        "    return False\n",
        "  elif (x == 4 or x == 6 or x == 9 or x == 11) and y > 31:\n",
        "    print(\"invalid day\")\n",
        "    return False\n",
        "  elif x == 2 and y > 29:\n",
        "    print(\"invalid day\")\n",
        "    return False\n",
        "\n",
        "  return True\n",
        "\n",
        "def season(x, y):\n",
        "  date = x * 100 + y\n",
        "  if 620 >= date >= 321:\n",
        "    print(\"spring\")\n",
        "  elif 920 >= date >= 621:\n",
        "    print(\"summer\")\n",
        "  elif 1220 >= date >= 921:\n",
        "    print(\"autumn\")\n",
        "  else:\n",
        "    print(\"winter\")\n",
        "\n",
        "if input_date(x, y):\n",
        "  season(x, y)"
      ],
      "execution_count": 34,
      "outputs": [
        {
          "output_type": "stream",
          "name": "stdout",
          "text": [
            "Input the month: 5\n",
            "Input the day: 23\n",
            "spring\n"
          ]
        }
      ]
    }
  ]
}
