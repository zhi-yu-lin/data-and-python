{
 "cells": [
  {
   "cell_type": "markdown",
   "metadata": {
    "colab_type": "text",
    "id": "view-in-github"
   },
   "source": [
    "<a href=\"https://colab.research.google.com/github/futureCodersSE/python-fundamentals/blob/main/Worksheet_functions_datetime.ipynb\" target=\"_parent\"><img src=\"https://colab.research.google.com/assets/colab-badge.svg\" alt=\"Open In Colab\"/></a>"
   ]
  },
  {
   "cell_type": "markdown",
   "metadata": {
    "id": "7iQyKP-SQiw1"
   },
   "source": [
    "# User-defined functions using datetime library\n",
    "\n",
    "---\n"
   ]
  },
  {
   "cell_type": "markdown",
   "metadata": {
    "id": "Vi93h5I4QnKs"
   },
   "source": [
    "When working with dates and times, fairly common in data sets, we need to be able to extract certain bits of information.  \n",
    "\n",
    "In Python, as with other languages, dates and times are stored in a data structure that combines the two together and stores the information as a number of seconds since a start point (often 1st January 1900).  This is obviously a large number but every bit of information about a date can be extracted from it and used to give a wide range of information.  \n",
    "\n",
    "Have a go at the exercises below to use a selection of datetime functions and return a new bit of data from each, to be printed by the caller.\n",
    "\n",
    "Before you can use datetime functions you will need to import them. Import the datetime functions like this:\n",
    "\n",
    "`from datetime import datetime`  \n",
    "\n",
    "\n",
    "For more information about datetime functions visit [w3Schools-Python datetime](https://www.w3schools.com/python/python_datetime.asp) and [Python docs](https://docs.python.org/3/library/datetime.html)"
   ]
  },
  {
   "cell_type": "markdown",
   "metadata": {
    "id": "MIDLi7CNR034"
   },
   "source": [
    "---\n",
    "### Exercise 1 - print current date and time\n",
    "\n",
    "Write a function that will return the date and time now.  The caller will print it.  \n",
    "\n",
    "*Hint:  the format has been added for you, the other exercises will follow a similar format.   Always remember to import datetime from datetime as shown below*"
   ]
  },
  {
   "cell_type": "code",
   "execution_count": 1,
   "metadata": {
    "id": "gS6GJdXbQfHp"
   },
   "outputs": [
    {
     "name": "stdout",
     "output_type": "stream",
     "text": [
      "2023-09-03 22:35:11.792245\n"
     ]
    }
   ],
   "source": [
    "from datetime import datetime, timezone\n",
    "# add your function, called get_datetime_now() below here\n",
    "def get_datetime_now():\n",
    "    return datetime.now()\n",
    "\n",
    "\n",
    "now_date_time = get_datetime_now()\n",
    "print(now_date_time)"
   ]
  },
  {
   "cell_type": "markdown",
   "metadata": {
    "id": "Yy24sL0bUtpF"
   },
   "source": [
    "---\n",
    "Exercise 2 - print the current year\n",
    "\n",
    "Write a function that will return the current year.  The caller will print the year."
   ]
  },
  {
   "cell_type": "code",
   "execution_count": 26,
   "metadata": {
    "id": "YqlQqPIqUtyr"
   },
   "outputs": [
    {
     "name": "stdout",
     "output_type": "stream",
     "text": [
      "2023\n"
     ]
    }
   ],
   "source": [
    "from datetime import datetime, timezone\n",
    "# add your function, called get_datetime_now() below here\n",
    "def get_datetime_now(date):\n",
    "    return date.year\n",
    "\n",
    "\n",
    "current_date = datetime.now()\n",
    "print(get_datetime_now(current_date))"
   ]
  },
  {
   "cell_type": "markdown",
   "metadata": {
    "id": "FzSVCaJKV1O1"
   },
   "source": [
    "---\n",
    "### Exercise 3 - print the current day of the week\n",
    "\n",
    "Write a function that will return the current day of the week.  The caller will print it."
   ]
  },
  {
   "cell_type": "code",
   "execution_count": null,
   "metadata": {
    "id": "OP4ZIXBWV1Yj"
   },
   "outputs": [],
   "source": []
  },
  {
   "cell_type": "markdown",
   "metadata": {
    "id": "a8euCtdmWIDE"
   },
   "source": [
    "---\n",
    "### Exercise 4 - create a new date\n",
    "\n",
    "Write a function that will take 3 parameters, day, month, year (3 numbers that make a valid date) and will create, and return a new date.  The caller will print the date."
   ]
  },
  {
   "cell_type": "code",
   "execution_count": 2,
   "metadata": {
    "id": "FbOFnTwnWILN"
   },
   "outputs": [
    {
     "name": "stdout",
     "output_type": "stream",
     "text": [
      "2023-07-28\n"
     ]
    }
   ],
   "source": [
    "from datetime import datetime\n",
    "def get_datetime_now(day, month, year):\n",
    "    \n",
    "    return datetime.date(datetime(year, month, day))\n",
    "\n",
    "\n",
    "now_date_time = get_datetime_now(28,7,2023)\n",
    "print(now_date_time)"
   ]
  },
  {
   "cell_type": "markdown",
   "metadata": {
    "id": "f5SKVuE0WfcE"
   },
   "source": [
    "---\n",
    "### Exercise 5 - create a valid date\n",
    "\n",
    "Write a function that will take 3 parameters, day, month, year (3 numbers) and will:  \n",
    "*   check that the month is between 1 and 12  \n",
    "*   check that the day is valid for the month (e.g. if the month is 2, then the day must be between 1 and 28 (don't worry about leap years for the moment)  \n",
    "*   if the date is not valid, print an error message and return None (which the caller will print)  \n",
    "*   if the date is valid, store it in a new variable, return the variable and the caller will print it."
   ]
  },
  {
   "cell_type": "code",
   "execution_count": 10,
   "metadata": {
    "id": "gclt-f9-XfdG"
   },
   "outputs": [
    {
     "name": "stdout",
     "output_type": "stream",
     "text": [
      "invailid month\n"
     ]
    }
   ],
   "source": [
    "def get_datetime_now(day, month, year):\n",
    "    if month < 1 or month > 12:\n",
    "        return print(\"invailid month\")       \n",
    "    \n",
    "    if day < 1:\n",
    "        return print(\"invalid day\")\n",
    "       \n",
    "    elif (month == 1 or month == 3 or month == 5 or month == 7 or month == 8 or month == 10 or month == 12) and day > 31:\n",
    "        return print(\"invalid day\")\n",
    "        \n",
    "    elif (month == 4 or month == 6 or month == 9 or month == 11) and day > 31:\n",
    "        return print(\"invalid day\")\n",
    "        \n",
    "    elif month == 2 and day > 28:\n",
    "        return print(\"invalid day\")\n",
    "      \n",
    "    else:\n",
    "        return datetime(year, month, day)\n",
    "\n",
    "\n",
    "get_datetime_now(31, 13, 2023)\n"
   ]
  },
  {
   "cell_type": "markdown",
   "metadata": {
    "id": "js7fy2HWXfm2"
   },
   "source": [
    "---\n",
    "### Exercise 6 - is it a leap year?\n",
    "\n",
    "Write a function that will take a date as a parameter (you will need to create the date variable before calling the function) and will determine if it is a leap year, returning True or False.\n",
    "\n",
    "*Hint:  a leap year is a year that is divisible by 4 but the centuries (1900, 2000, etc are only leap years if they are divisible by 400)*"
   ]
  },
  {
   "cell_type": "code",
   "execution_count": 25,
   "metadata": {
    "id": "KY1jtf3lX_ps"
   },
   "outputs": [
    {
     "name": "stdout",
     "output_type": "stream",
     "text": [
      "2000 is a leap year\n"
     ]
    }
   ],
   "source": [
    "from datetime import datetime\n",
    "def is_leap_year(date_to_check):\n",
    "    if date_to_check.year % 400 == 0:\n",
    "        return True\n",
    "    else:\n",
    "        return False\n",
    "    \n",
    "\n",
    "check_date = datetime(2000, 12, 15)\n",
    "if is_leap_year(check_date):\n",
    "  print(check_date.strftime(\"%Y\"), \"is a leap year\")\n",
    "else:\n",
    "  print(check_date.strftime(\"%Y\"), \"is not a leap year\")"
   ]
  },
  {
   "cell_type": "markdown",
   "metadata": {
    "id": "9BuRDi08YAO0"
   },
   "source": [
    "---\n",
    "### Exercise 7 - display parts of date/time\n",
    "\n",
    "Write a function that will take a date and print from it the following:  \n",
    "*  given date and time  \n",
    "*  year (in full) \n",
    "*  month (as a number) \n",
    "*  month name \n",
    "*  week number of the year  \n",
    "*  weekday of the week (as a number)  \n",
    "*  day of year  \n",
    "*  day of the month  \n",
    "*  day of week (as a name)  \n",
    "\n",
    "*Hint:  see w3Schools for [strftime reference](https://www.w3schools.com/python/python_datetime.asp)*\n",
    "\n"
   ]
  },
  {
   "cell_type": "code",
   "execution_count": null,
   "metadata": {
    "id": "zl-37Ez9ahym"
   },
   "outputs": [],
   "source": [
    "def display(date):\n",
    "    print()"
   ]
  },
  {
   "cell_type": "markdown",
   "metadata": {
    "id": "_rpTIoSDaiBj"
   },
   "source": [
    "---\n",
    "### Exercise 8 - next 6 days\n",
    "\n",
    "Write a function that will take a date and generate the dates of the following 6 days.  It should print each of the 6 days in the form:  \n",
    "\n",
    "DAY OF THE WEEK, MONTH NAME, FULL YEAR\n",
    "\n",
    "Hint:  to generate the days, use the function datetime.timedelta(), there is a good example of its use [here](https://www.geeksforgeeks.org/python-datetime-timedelta-function/)  "
   ]
  },
  {
   "cell_type": "code",
   "execution_count": null,
   "metadata": {
    "id": "1d-oXqLLb0vX"
   },
   "outputs": [],
   "source": []
  },
  {
   "cell_type": "markdown",
   "metadata": {
    "id": "22Rhwx2Sb1Ey"
   },
   "source": [
    "---\n",
    "### Optional extra practice\n",
    "\n",
    "There are some similar and some more challenging exercises [here](https://www.w3resource.com/python-exercises/date-time-exercise/) if you would like to practice more. The site has its own editor."
   ]
  }
 ],
 "metadata": {
  "colab": {
   "authorship_tag": "ABX9TyMXsGfW5x4I5/WqIMNt6smy",
   "collapsed_sections": [],
   "include_colab_link": true,
   "name": "Worksheet-functions-datetime.ipynb",
   "provenance": []
  },
  "kernelspec": {
   "display_name": "Python 3 (ipykernel)",
   "language": "python",
   "name": "python3"
  },
  "language_info": {
   "codemirror_mode": {
    "name": "ipython",
    "version": 3
   },
   "file_extension": ".py",
   "mimetype": "text/x-python",
   "name": "python",
   "nbconvert_exporter": "python",
   "pygments_lexer": "ipython3",
   "version": "3.11.4"
  }
 },
 "nbformat": 4,
 "nbformat_minor": 1
}
