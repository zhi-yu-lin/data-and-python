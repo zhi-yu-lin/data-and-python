{
 "cells": [
  {
   "cell_type": "markdown",
   "metadata": {
    "colab_type": "text",
    "id": "view-in-github"
   },
   "source": [
    "<a href=\"https://colab.research.google.com/github/futureCodersSE/python-fundamentals/blob/main/User_defined_functions.ipynb\" target=\"_parent\"><img src=\"https://colab.research.google.com/assets/colab-badge.svg\" alt=\"Open In Colab\"/></a>"
   ]
  },
  {
   "cell_type": "markdown",
   "metadata": {
    "id": "_mb8Es9TZFdY"
   },
   "source": [
    "# User-defined functions"
   ]
  },
  {
   "cell_type": "markdown",
   "metadata": {
    "id": "yDPndJACZJKA"
   },
   "source": [
    "---\n",
    "During this course, you have already been writing user-defined functions.  We have introduced these early so that they become second nature to use.  Python is a 'scripting' language, which means that you can just write a list of instructions and click run and it will just run them from first to last.\n",
    "\n",
    "Many other programming languages, including C, C++ and Java, have a structure where you must group instructions into a named set (like a function) before you can run them.  It will be easier to learn new languages later if you have an understanding of the organisation of code into functions.\n",
    "\n",
    "## Definition\n",
    "\n",
    "A function is a set of programming instructions, grouped together and named so that, in essence, they form a new instruction that can be use in other functions.\n",
    "\n",
    "A function should:\n",
    "*   do *one* particular thing (e.g. generate one new piece of data)\n",
    "*   have a *name* that indicates what it does, that name should contain a verb (e.g. get_username(), calculate_sum() )\n",
    "*   accept a number of data items as *parameters* in its brackets\n",
    "*   *return* the one new piece of data it produces or None if no new data is produced.\n",
    "\n",
    "---\n",
    "## Examples\n",
    "Run the code for each to see what it does.\n",
    "\n",
    "\n",
    "\n",
    "\n"
   ]
  },
  {
   "cell_type": "code",
   "execution_count": null,
   "metadata": {
    "id": "BRlxHaF9YtoB"
   },
   "outputs": [],
   "source": [
    "def get_username():\n",
    "  username = input(\"Enter your username: \")\n",
    "  return username\n",
    "\n",
    "username = get_username()\n",
    "print(username)"
   ]
  },
  {
   "cell_type": "markdown",
   "metadata": {
    "id": "RsSaHvS_bx0i"
   },
   "source": [
    "---\n"
   ]
  },
  {
   "cell_type": "code",
   "execution_count": null,
   "metadata": {
    "id": "DraANPGIbd13"
   },
   "outputs": [],
   "source": [
    "def calculate_sum(num1, num2):\n",
    "  sum = num1 + num2\n",
    "  return sum\n",
    "\n",
    "total = calculate_sum(4, 7)\n",
    "print(total)"
   ]
  },
  {
   "cell_type": "markdown",
   "metadata": {
    "id": "IaybFpHvbziA"
   },
   "source": [
    "---\n"
   ]
  },
  {
   "cell_type": "code",
   "execution_count": null,
   "metadata": {
    "id": "pEldozw1bw9K"
   },
   "outputs": [],
   "source": [
    "def show_score(score):\n",
    "  print(\"Your current score is: \", score)\n",
    "\n",
    "show_score(50)"
   ]
  },
  {
   "cell_type": "markdown",
   "metadata": {
    "id": "S54v0BzZfcle"
   },
   "source": [
    "---\n",
    "## Passing data to functions\n",
    "\n",
    "Data is passed to a function through its brackets.  The brackets contain the parameter list.  The list can contain zero or more parameters.\n",
    "\n",
    "When the function is called, the parameters (either real values or variables holding values) are added to the function call."
   ]
  },
  {
   "cell_type": "code",
   "execution_count": null,
   "metadata": {
    "id": "nPaM_x2cg2EI"
   },
   "outputs": [],
   "source": [
    "def calculate_answer(num1, num2, operator):\n",
    "  if operator == \"+\":\n",
    "     return num1 + num2\n",
    "  elif operator == \"-\":\n",
    "     return num1 - num2\n",
    "  elif operator == \"*\":\n",
    "     return num1 * num2\n",
    "  elif operator == \"/\":\n",
    "     return num1 / num2\n",
    "  else:\n",
    "     return -999999\n",
    "\n",
    "answer = calculate_answer(5,7,\"+\")\n",
    "print(answer)"
   ]
  },
  {
   "cell_type": "markdown",
   "metadata": {
    "id": "4u3jcpUWg56N"
   },
   "source": [
    "To pass values easily to the function, just add the values in the same order that they are listed in the function definition.  Make sure that the values you pass in are of a type that the function obviously expects."
   ]
  },
  {
   "cell_type": "markdown",
   "metadata": {
    "id": "2pN0AVaTh-HP"
   },
   "source": [
    "---\n",
    "## Global and local variables\n",
    "\n",
    "Each variable in a Python program has a **scope**.  This determines which parts of the program can 'see' that variable. The advantage of variable scope is that it:\n",
    "*   can protect variables from being changed elsewhere in the program due to adding a variable with the same name\n",
    "*   reduces the number of different variable names needed.  If a total in one function is totally unconnected to a total in a different function they can have the same name and only exist while the function each is in is actually running.  This also saves on memory.\n",
    "\n"
   ]
  },
  {
   "cell_type": "code",
   "execution_count": null,
   "metadata": {
    "colab": {
     "base_uri": "https://localhost:8080/"
    },
    "id": "Ww0WCrVBhNLm",
    "outputId": "dd638b9a-8592-4715-b901-fe05f8da7575"
   },
   "outputs": [
    {
     "name": "stdout",
     "output_type": "stream",
     "text": [
      "Inside the function, local total 30\n",
      "Outside the function, global total 0\n",
      "Outside the function, global new_total, returned from function 30\n"
     ]
    }
   ],
   "source": [
    "def calculate_sum(num1, num2):\n",
    "  # add the parameters together and return the total\n",
    "  total = num1 + num2  # here total is a local variable\n",
    "  print(\"Inside the function, local total\", total)\n",
    "  return total\n",
    "\n",
    "total = 0  # here total is a global variable (declared outside any function)\n",
    "\n",
    "# call the calculate_sum function, storing the result in the global variable\n",
    "new_total = calculate_sum(10, 20)\n",
    "print(\"Outside the function, global total\", total)\n",
    "print(\"Outside the function, global new_total, returned from function\", new_total)"
   ]
  },
  {
   "cell_type": "markdown",
   "metadata": {
    "id": "VQ2bk-Qo7jC7"
   },
   "source": [
    "---\n",
    "# Have a go"
   ]
  },
  {
   "cell_type": "markdown",
   "metadata": {
    "id": "iK9GF4T274Na"
   },
   "source": [
    "---\n",
    "### Exercise 1 - get valid digit\n",
    "\n",
    "Write a function called **input_digit()** which will:\n",
    "*  ask the user for a **number** that must be between 0 and 9, if the number is not between 0 and 9 it will keep reading until it gets a valid `number`\n",
    "*  return the valid `number` to be printed by the caller \n",
    "\n",
    "Test input:  \n",
    "33  \n",
    "-1  \n",
    "8  \n",
    "\n",
    "Expected output:  \n",
    "That number is not valid, try again  \n",
    "That number is not valid, try again  \n",
    "8  "
   ]
  },
  {
   "cell_type": "code",
   "execution_count": 2,
   "metadata": {
    "id": "lwN-VvkH8Skt"
   },
   "outputs": [
    {
     "name": "stdout",
     "output_type": "stream",
     "text": [
      "33\n",
      "That number is not valid, try again  \n"
     ]
    }
   ],
   "source": [
    "def input_digit(number):\n",
    "    if 9 >= number >= 0:\n",
    "        print(number)\n",
    "    else:\n",
    "        print(\"That number is not valid, try again  \")\n",
    "    \n",
    "number = int(input())\n",
    "input_digit(number)"
   ]
  },
  {
   "cell_type": "markdown",
   "metadata": {
    "id": "v-qE3qQ58THx"
   },
   "source": [
    "---\n",
    "### Exercise 2 - input range\n",
    "\n",
    "Write a function called **input_value(min, max)** which will:  \n",
    "*  read a **number** that must be between `min` and `max` and only return when it has a valid `number`.  The caller will print the `number`.\n",
    "\n",
    "Test input:  \n",
    "min = 3  \n",
    "max = 24  \n",
    "1  \n",
    "45  \n",
    "20  \n",
    "\n",
    "Expected output:  \n",
    "Number is out of range, try again  \n",
    "Number is out of range, try again  \n",
    "20"
   ]
  },
  {
   "cell_type": "code",
   "execution_count": 1,
   "metadata": {
    "id": "PKAlW0sr9XR1"
   },
   "outputs": [
    {
     "name": "stdout",
     "output_type": "stream",
     "text": [
      "min = 3\n",
      "max = 8\n",
      "4\n",
      "4\n"
     ]
    }
   ],
   "source": [
    "min = int(input(\"min = \"))\n",
    "max = int(input(\"max = \"))\n",
    "\n",
    "\n",
    "def input_value(min, max):\n",
    "    number = int(input())\n",
    "    if max >= number >= min:\n",
    "        print(number)\n",
    "    else:\n",
    "        print(\"Number is out of range, try again\")\n",
    "        \n",
    "    \n",
    "input_value(min, max)"
   ]
  },
  {
   "cell_type": "markdown",
   "metadata": {
    "id": "MXhunQBG9XkU"
   },
   "source": [
    "---\n",
    "### Exercise 3 - re-using the function\n",
    "\n",
    "Using the same function as in Exercise 2 above, try running it with these function calls:\n",
    "\n",
    "```\n",
    "value1 = input_value(1,10)\n",
    "value2 = input_value(11,20)\n",
    "value3 = input_value(21,30)\n",
    "print(value1, value2, value3)\n",
    "```"
   ]
  },
  {
   "cell_type": "code",
   "execution_count": 2,
   "metadata": {
    "id": "oVpQJ3ZM9xCJ"
   },
   "outputs": [
    {
     "name": "stdout",
     "output_type": "stream",
     "text": [
      "4\n",
      "4\n",
      "9\n",
      "Number is out of range, try again\n",
      "90\n",
      "Number is out of range, try again\n",
      "None None None\n"
     ]
    }
   ],
   "source": [
    "def input_value(min, max):\n",
    "    number = int(input())\n",
    "    if max >= number >= min:\n",
    "        print(number)\n",
    "    else:\n",
    "        print(\"Number is out of range, try again\")\n",
    "        \n",
    "    \n",
    "value1 = input_value(1,10)\n",
    "value2 = input_value(11,20)\n",
    "value3 = input_value(21,30)\n",
    "print(value1, value2, value3)"
   ]
  },
  {
   "cell_type": "markdown",
   "metadata": {
    "id": "P0QwTt7O9xUz"
   },
   "source": [
    "---\n",
    "### Exercise 4 - generate random even number\n",
    "\n",
    "Write a function called **generate_even_number()** that will generate a random, even **number** and return it to the caller, which will print it.\n",
    "\n",
    "*Hint: the function will need to generate the number, check it is an even number, repeat if not and return the number once it has got an even number*."
   ]
  },
  {
   "cell_type": "code",
   "execution_count": 7,
   "metadata": {
    "id": "1ccTQxUa-Ok7"
   },
   "outputs": [
    {
     "name": "stdout",
     "output_type": "stream",
     "text": [
      "63\n"
     ]
    }
   ],
   "source": [
    "from random import randint\n",
    "\n",
    "def generate_even_number():\n",
    "    number = randint(1,100)\n",
    "    return number\n",
    "\n",
    "print(generate_even_number())"
   ]
  },
  {
   "cell_type": "markdown",
   "metadata": {
    "id": "LYLGRytk-Ot6"
   },
   "source": [
    "---\n",
    "### Exercise 5 - biggest of 3 numbers\n",
    "\n",
    "Write a function called **check_largest(num1, num2, num3)** which will:  \n",
    "*  select the largest of `num1`, `num2` and `num3` and store this in a variable called **largest**\n",
    "*  return `largest` to the caller, where it will be printed. \n",
    "\n",
    "Test input:  \n",
    "check_largest(3,5,8)  \n",
    "check_largest(5,7,2)  \n",
    "check_largest(123,45,122)\n",
    "\n",
    "Expected output:  \n",
    "8  \n",
    "7  \n",
    "123  "
   ]
  },
  {
   "cell_type": "code",
   "execution_count": 9,
   "metadata": {
    "id": "S_LeqEVd__Cc"
   },
   "outputs": [
    {
     "ename": "TypeError",
     "evalue": "'int' object is not callable",
     "output_type": "error",
     "traceback": [
      "\u001b[0;31m---------------------------------------------------------------------------\u001b[0m",
      "\u001b[0;31mTypeError\u001b[0m                                 Traceback (most recent call last)",
      "Cell \u001b[0;32mIn[9], line 4\u001b[0m\n\u001b[1;32m      2\u001b[0m     largest \u001b[38;5;241m=\u001b[39m \u001b[38;5;28mmax\u001b[39m(num1, num2, num3)\n\u001b[1;32m      3\u001b[0m     \u001b[38;5;28;01mreturn\u001b[39;00m largest\n\u001b[0;32m----> 4\u001b[0m \u001b[38;5;28mprint\u001b[39m(check_largest(\u001b[38;5;241m3\u001b[39m,\u001b[38;5;241m5\u001b[39m,\u001b[38;5;241m8\u001b[39m))\n\u001b[1;32m      5\u001b[0m \u001b[38;5;28mprint\u001b[39m(check_largest(\u001b[38;5;241m5\u001b[39m,\u001b[38;5;241m7\u001b[39m,\u001b[38;5;241m2\u001b[39m))\n\u001b[1;32m      6\u001b[0m \u001b[38;5;28mprint\u001b[39m(check_largest(\u001b[38;5;241m123\u001b[39m,\u001b[38;5;241m45\u001b[39m,\u001b[38;5;241m122\u001b[39m))\n",
      "Cell \u001b[0;32mIn[9], line 2\u001b[0m, in \u001b[0;36mcheck_largest\u001b[0;34m(num1, num2, num3)\u001b[0m\n\u001b[1;32m      1\u001b[0m \u001b[38;5;28;01mdef\u001b[39;00m \u001b[38;5;21mcheck_largest\u001b[39m(num1, num2, num3):\n\u001b[0;32m----> 2\u001b[0m     largest \u001b[38;5;241m=\u001b[39m \u001b[38;5;28mmax\u001b[39m(num1, num2, num3)\n\u001b[1;32m      3\u001b[0m     \u001b[38;5;28;01mreturn\u001b[39;00m largest\n",
      "\u001b[0;31mTypeError\u001b[0m: 'int' object is not callable"
     ]
    }
   ],
   "source": [
    "def check_largest(num1, num2, num3):\n",
    "    largest = max(num1, num2, num3)\n",
    "    return largest\n",
    "\n",
    "print(check_largest(3,5,8))\n",
    "print(check_largest(5,7,2))\n",
    "print(check_largest(123,45,122))"
   ]
  },
  {
   "cell_type": "markdown",
   "metadata": {
    "id": "cbrFvknfAO05"
   },
   "source": [
    "---\n",
    "### Exercise 6 - average of 5 numbers\n",
    "\n",
    "Write a function calculate_average(num1, num2, num3, num4, num5) which will calculate the average of the 5 numbers given.  \n",
    "\n",
    "Test input:  \n",
    "calculate_average(1,2,3,4,5)  \n",
    "calculate_average(10002, 30004, 5005, 3333333, 12345)  \n",
    "\n",
    "Expected output:  \n",
    "3.0  \n",
    "678137.8"
   ]
  },
  {
   "cell_type": "code",
   "execution_count": 11,
   "metadata": {
    "id": "BFTEfne8APF5"
   },
   "outputs": [
    {
     "name": "stdout",
     "output_type": "stream",
     "text": [
      "3.0\n",
      "678137.8\n"
     ]
    }
   ],
   "source": [
    "def calculate_average(num1, num2, num3, num4, num5):\n",
    "    ave = (num1 + num2 + num3 + num4 + num5) / 5\n",
    "    return ave\n",
    "print(calculate_average(1,2,3,4,5))\n",
    "print(calculate_average(10002, 30004, 5005, 3333333, 12345))"
   ]
  },
  {
   "cell_type": "markdown",
   "metadata": {
    "id": "Z58a7qa1BQ6j"
   },
   "source": [
    "---\n",
    "### Exercise 7 - calculate price\n",
    "\n",
    "Write a function called **calculate_price(product_price, items)** which will:\n",
    "\n",
    "*  ask the user to enter any **discount** they have (this can be 10% or 25% only), if the discount value is invalid, do not apply a discount   \n",
    "*  calculate the price of the items, including the discount\n",
    "*  return the `discounted price`\n",
    "\n",
    "Test input:  \n",
    "product_price is 3.50  \n",
    "number of items is 4  \n",
    "user enters discount of 10%  \n",
    "\n",
    "Expected output:  \n",
    "Discounted price: £ 12.60\n",
    "\n",
    "Test input:  \n",
    "product_price is 8.99  \n",
    "number of items is 10  \n",
    "user enters discount of 50%   \n",
    "\n",
    "Expected output:  \n",
    "Discounted price: £ 89.90  "
   ]
  },
  {
   "cell_type": "code",
   "execution_count": 14,
   "metadata": {
    "id": "lSHhdyhUBRKr"
   },
   "outputs": [
    {
     "name": "stdout",
     "output_type": "stream",
     "text": [
      "product_price is 3.5\n",
      "number of items is 4\n",
      "10%\n",
      "Discounted price: £ 12.6\n"
     ]
    }
   ],
   "source": [
    "product_price = float(input(\"product_price is \"))\n",
    "items = int(input(\"number of items is \"))\n",
    "def calculate_price(product_price, items):\n",
    "    \n",
    "    discount = input()\n",
    "    if discount == '10%':\n",
    "        discount = 0.1\n",
    "    elif discount == '25%':\n",
    "        discount = 0.25\n",
    "    else:\n",
    "        discount = 0\n",
    "    price = product_price * items * (1 - discount)\n",
    "    print(\"Discounted price: £\", price)\n",
    "\n",
    "calculate_price(product_price, items)"
   ]
  },
  {
   "cell_type": "markdown",
   "metadata": {
    "id": "NG2u2VT-CwO6"
   },
   "source": [
    "---\n",
    "### Exercise 8 - reverse a string\n",
    "\n",
    " Write a function called **reverse_string(word)** which will:  \n",
    " \n",
    " *  reverse the letters in the word  \n",
    " *  return the **reversed** `word` for printing\n",
    "\n",
    "[Help if you need it](https://www.w3schools.com/python/python_howto_reverse_string.asp)  \n",
    "\n",
    " Test input:  \n",
    " tiger  \n",
    "\n",
    " Expected output:  \n",
    " regit\n",
    "\n",
    " Test input:  \n",
    " Expected\n",
    "\n",
    " Expected output:  \n",
    " detcepxE"
   ]
  },
  {
   "cell_type": "code",
   "execution_count": 15,
   "metadata": {
    "id": "OdHYWCJMCwaI"
   },
   "outputs": [
    {
     "name": "stdout",
     "output_type": "stream",
     "text": [
      "tiger\n"
     ]
    },
    {
     "ename": "TypeError",
     "evalue": "'str' object does not support item assignment",
     "output_type": "error",
     "traceback": [
      "\u001b[0;31m---------------------------------------------------------------------------\u001b[0m",
      "\u001b[0;31mTypeError\u001b[0m                                 Traceback (most recent call last)",
      "Cell \u001b[0;32mIn[15], line 8\u001b[0m\n\u001b[1;32m      6\u001b[0m         word[\u001b[38;5;28mlen\u001b[39m(word) \u001b[38;5;241m-\u001b[39m \u001b[38;5;241m1\u001b[39m] \u001b[38;5;241m=\u001b[39m tmp\n\u001b[1;32m      7\u001b[0m     \u001b[38;5;28;01mreturn\u001b[39;00m word\n\u001b[0;32m----> 8\u001b[0m \u001b[38;5;28mprint\u001b[39m(reverse_string(word))\n",
      "Cell \u001b[0;32mIn[15], line 5\u001b[0m, in \u001b[0;36mreverse_string\u001b[0;34m(word)\u001b[0m\n\u001b[1;32m      3\u001b[0m \u001b[38;5;28;01mfor\u001b[39;00m i \u001b[38;5;129;01min\u001b[39;00m \u001b[38;5;28mrange\u001b[39m(\u001b[38;5;28mlen\u001b[39m(word) \u001b[38;5;241m/\u001b[39m\u001b[38;5;241m/\u001b[39m \u001b[38;5;241m2\u001b[39m):\n\u001b[1;32m      4\u001b[0m     tmp \u001b[38;5;241m=\u001b[39m word[i]\n\u001b[0;32m----> 5\u001b[0m     word[i] \u001b[38;5;241m=\u001b[39m word[\u001b[38;5;28mlen\u001b[39m(word) \u001b[38;5;241m-\u001b[39m \u001b[38;5;241m1\u001b[39m]\n\u001b[1;32m      6\u001b[0m     word[\u001b[38;5;28mlen\u001b[39m(word) \u001b[38;5;241m-\u001b[39m \u001b[38;5;241m1\u001b[39m] \u001b[38;5;241m=\u001b[39m tmp\n\u001b[1;32m      7\u001b[0m \u001b[38;5;28;01mreturn\u001b[39;00m word\n",
      "\u001b[0;31mTypeError\u001b[0m: 'str' object does not support item assignment"
     ]
    }
   ],
   "source": [
    "word = input()\n",
    "def reverse_string(word):\n",
    "    for i in range(len(word) // 2):\n",
    "        tmp = word[i]\n",
    "        word[i] = word[len(word) - 1]\n",
    "        word[len(word) - 1] = tmp\n",
    "    return word\n",
    "print(reverse_string(word))\n",
    "                   \n",
    "        \n",
    "        "
   ]
  },
  {
   "cell_type": "markdown",
   "metadata": {
    "id": "QPHDjtXXEJ92"
   },
   "source": [
    "---\n",
    "### Exercise 9 - find factorial\n",
    "\n",
    "Write a function called **calculate_factorial(num)** which will:\n",
    "\n",
    "*  if `num` is negative set **factorial** to -1\n",
    "*  if `num` isn't negative, if it is 0 then set `factorial` to 1\n",
    "*  if `num` isn't 0 then calculate `factorial` (multiply the numbers from `num` down to 1\n",
    "*  return `factorial`.   \n",
    "\n",
    "Test inputs:  \n",
    "calculate_factorial(5)  \n",
    "calculate_factorial(-5)  \n",
    "calculate_factorial(0)    \n",
    "\n",
    "Expected outputs:  \n",
    "120  \n",
    "-1  \n",
    "1    "
   ]
  },
  {
   "cell_type": "code",
   "execution_count": null,
   "metadata": {
    "id": "QAln19ReEKH5"
   },
   "outputs": [],
   "source": []
  },
  {
   "cell_type": "markdown",
   "metadata": {
    "id": "x-JvvWUVFvY8"
   },
   "source": [
    "---\n",
    "### Exercise 10 - palindrome  \n",
    "\n",
    "Write a function called **is_palindrome(word)** which will return True if the `word` passed in is a palindrome (ie it reads the same in reverse) and False if not.\n",
    "\n",
    "*Hint:  remember that upper case and lower case letters are not seen as the same by Python, there are [case conversion](https://www.codecademy.com/learn/learn-python-3/modules/learn-python3-strings/cheatsheet) functions you can use to help with this.*\n",
    "\n",
    "Test input:  \n",
    "is_palindrome(\"racecar\")  \n",
    "is_palindrome(\"Racecar\")  \n",
    "is_palindrome(\"banana\")  \n",
    "\n",
    "Expected output:  \n",
    "True  \n",
    "True  \n",
    "False  "
   ]
  },
  {
   "cell_type": "code",
   "execution_count": null,
   "metadata": {
    "id": "Jx0ZSYl0FvjD"
   },
   "outputs": [],
   "source": [
    "def is_palindrome(word):"
   ]
  }
 ],
 "metadata": {
  "colab": {
   "authorship_tag": "ABX9TyNsqkzxLwTtsLdDmSlFt/OZ",
   "collapsed_sections": [],
   "include_colab_link": true,
   "name": "User-defined-functions.ipynb",
   "provenance": []
  },
  "kernelspec": {
   "display_name": "Python 3 (ipykernel)",
   "language": "python",
   "name": "python3"
  },
  "language_info": {
   "codemirror_mode": {
    "name": "ipython",
    "version": 3
   },
   "file_extension": ".py",
   "mimetype": "text/x-python",
   "name": "python",
   "nbconvert_exporter": "python",
   "pygments_lexer": "ipython3",
   "version": "3.11.4"
  }
 },
 "nbformat": 4,
 "nbformat_minor": 1
}
