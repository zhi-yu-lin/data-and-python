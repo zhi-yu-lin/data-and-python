{
  "nbformat": 4,
  "nbformat_minor": 0,
  "metadata": {
    "colab": {
      "provenance": [],
      "include_colab_link": true
    },
    "kernelspec": {
      "name": "python3",
      "display_name": "Python 3"
    },
    "language_info": {
      "name": "python"
    }
  },
  "cells": [
    {
      "cell_type": "markdown",
      "metadata": {
        "id": "view-in-github",
        "colab_type": "text"
      },
      "source": [
        "<a href=\"https://colab.research.google.com/github/zhi-yu-lin/data-and-python/blob/main/Worksheets/4a_Filtering_data_with_Pandas.ipynb\" target=\"_parent\"><img src=\"https://colab.research.google.com/assets/colab-badge.svg\" alt=\"Open In Colab\"/></a>"
      ]
    },
    {
      "cell_type": "markdown",
      "source": [
        "# Filtering dataframe data\n",
        "\n",
        "Interrogating dataframes\n",
        "---\n",
        "\n",
        "*   single column: `df['column']`\n",
        "*   multiple columns: `df[['column1', 'column2']]`\n",
        "*   filter rows by condition \t`df[df['column'] = condition]`  \n",
        "*   filter by multiple conditions where both are true (AND)  \n",
        "\t`df[(df['column'] = condition1) & (df['column'] = condition2)]`  \n",
        "*   filter by multiple conditions where one or other are true (OR)  \n",
        "\t`df[(df['column'] = condition1)  | (df['column'] = condition2)]`  \n",
        "\n",
        "### Useful Functions\n",
        "\n",
        "---\n",
        "\n",
        "`head()`: will show the first 5 rows of the dataframe.  \n",
        "`tail()`: same as head() but for the last 5 rows.  \n",
        "`len()`: will show the length.  \n",
        "`mode()`: will show the most common value in column.  \n",
        "`mean()`: will show the average of the column.  \n",
        "`sort_values()`: will sort the dataframe.\n",
        "\n",
        "\n",
        "\n"
      ],
      "metadata": {
        "id": "3HT6psayWFCc"
      }
    },
    {
      "cell_type": "markdown",
      "source": [
        "## Data Imports & Table Content\n",
        "\n",
        "---\n",
        "\n",
        "In this worksheet you will use data from a dataset in an Excel spreadsheet called public_use-talent-migration.xlsx. This spreadsheet file contains 3 sheets, each with related but different data on migration.   \n",
        "\n",
        "Running the code below will create a dataframe from each of the 3 sheets and will display the column names and data types so that you can start to get an idea of what is in the data.\n",
        "\n",
        "You can then use these dataframes in the exercises, rather than keep re-reading the original files. The 3 dataframes will be called:\n",
        "\n",
        "*  skill_migration\n",
        "*  industry_migration\n",
        "*  country_migration"
      ],
      "metadata": {
        "id": "szKiU-timLdN"
      }
    },
    {
      "cell_type": "code",
      "source": [
        "import pandas as pd\n",
        "\n",
        "skill_migration = pd.read_excel('https://github.com/futureCodersSE/working-with-data/blob/main/Data%20sets/public_use-talent-migration.xlsx?raw=true', \"Skill Migration\")\n",
        "industry_migration = pd.read_excel('https://github.com/futureCodersSE/working-with-data/blob/main/Data%20sets/public_use-talent-migration.xlsx?raw=true', \"Industry Migration\")\n",
        "country_migration = pd.read_excel('https://github.com/futureCodersSE/working-with-data/blob/main/Data%20sets/public_use-talent-migration.xlsx?raw=true', \"Country Migration\")\n",
        "\n",
        "def get_summary(df):\n",
        "  display(df.info())\n",
        "\n",
        "get_summary(skill_migration)\n",
        "get_summary(industry_migration)\n",
        "get_summary(country_migration)\n",
        "\n",
        "country_migration\n"
      ],
      "metadata": {
        "id": "ZG_96PAAhaVY",
        "outputId": "ec785b65-7682-4d73-ac51-7dc63ca1aa48",
        "colab": {
          "base_uri": "https://localhost:8080/",
          "height": 1000
        }
      },
      "execution_count": 12,
      "outputs": [
        {
          "output_type": "stream",
          "name": "stdout",
          "text": [
            "<class 'pandas.core.frame.DataFrame'>\n",
            "RangeIndex: 17617 entries, 0 to 17616\n",
            "Data columns (total 12 columns):\n",
            " #   Column                Non-Null Count  Dtype  \n",
            "---  ------                --------------  -----  \n",
            " 0   country_code          17617 non-null  object \n",
            " 1   country_name          17617 non-null  object \n",
            " 2   wb_income             17617 non-null  object \n",
            " 3   wb_region             17617 non-null  object \n",
            " 4   skill_group_id        17617 non-null  int64  \n",
            " 5   skill_group_category  17617 non-null  object \n",
            " 6   skill_group_name      17617 non-null  object \n",
            " 7   net_per_10K_2015      17617 non-null  float64\n",
            " 8   net_per_10K_2016      17617 non-null  float64\n",
            " 9   net_per_10K_2017      17617 non-null  float64\n",
            " 10  net_per_10K_2018      17617 non-null  float64\n",
            " 11  net_per_10K_2019      17617 non-null  float64\n",
            "dtypes: float64(5), int64(1), object(6)\n",
            "memory usage: 1.6+ MB\n"
          ]
        },
        {
          "output_type": "display_data",
          "data": {
            "text/plain": [
              "None"
            ]
          },
          "metadata": {}
        },
        {
          "output_type": "stream",
          "name": "stdout",
          "text": [
            "<class 'pandas.core.frame.DataFrame'>\n",
            "RangeIndex: 5295 entries, 0 to 5294\n",
            "Data columns (total 13 columns):\n",
            " #   Column              Non-Null Count  Dtype  \n",
            "---  ------              --------------  -----  \n",
            " 0   country_code        5295 non-null   object \n",
            " 1   country_name        5295 non-null   object \n",
            " 2   wb_income           5295 non-null   object \n",
            " 3   wb_region           5295 non-null   object \n",
            " 4   isic_section_index  5295 non-null   object \n",
            " 5   isic_section_name   5295 non-null   object \n",
            " 6   industry_id         5295 non-null   int64  \n",
            " 7   industry_name       5295 non-null   object \n",
            " 8   net_per_10K_2015    5295 non-null   float64\n",
            " 9   net_per_10K_2016    5295 non-null   float64\n",
            " 10  net_per_10K_2017    5295 non-null   float64\n",
            " 11  net_per_10K_2018    5295 non-null   float64\n",
            " 12  net_per_10K_2019    5295 non-null   float64\n",
            "dtypes: float64(5), int64(1), object(7)\n",
            "memory usage: 537.9+ KB\n"
          ]
        },
        {
          "output_type": "display_data",
          "data": {
            "text/plain": [
              "None"
            ]
          },
          "metadata": {}
        },
        {
          "output_type": "stream",
          "name": "stdout",
          "text": [
            "<class 'pandas.core.frame.DataFrame'>\n",
            "RangeIndex: 4148 entries, 0 to 4147\n",
            "Data columns (total 17 columns):\n",
            " #   Column                    Non-Null Count  Dtype  \n",
            "---  ------                    --------------  -----  \n",
            " 0   base_country_code         4148 non-null   object \n",
            " 1   base_country_name         4148 non-null   object \n",
            " 2   base_lat                  4148 non-null   float64\n",
            " 3   base_long                 4148 non-null   float64\n",
            " 4   base_country_wb_income    4148 non-null   object \n",
            " 5   base_country_wb_region    4148 non-null   object \n",
            " 6   target_country_code       4148 non-null   object \n",
            " 7   target_country_name       4148 non-null   object \n",
            " 8   target_lat                4148 non-null   float64\n",
            " 9   target_long               4148 non-null   float64\n",
            " 10  target_country_wb_income  4148 non-null   object \n",
            " 11  target_country_wb_region  4148 non-null   object \n",
            " 12  net_per_10K_2015          4148 non-null   float64\n",
            " 13  net_per_10K_2016          4148 non-null   float64\n",
            " 14  net_per_10K_2017          4148 non-null   float64\n",
            " 15  net_per_10K_2018          4148 non-null   float64\n",
            " 16  net_per_10K_2019          4148 non-null   float64\n",
            "dtypes: float64(9), object(8)\n",
            "memory usage: 551.0+ KB\n"
          ]
        },
        {
          "output_type": "display_data",
          "data": {
            "text/plain": [
              "None"
            ]
          },
          "metadata": {}
        },
        {
          "output_type": "execute_result",
          "data": {
            "text/plain": [
              "     base_country_code     base_country_name   base_lat  base_long  \\\n",
              "0                   ae  United Arab Emirates  23.424076  53.847818   \n",
              "1                   ae  United Arab Emirates  23.424076  53.847818   \n",
              "2                   ae  United Arab Emirates  23.424076  53.847818   \n",
              "3                   ae  United Arab Emirates  23.424076  53.847818   \n",
              "4                   ae  United Arab Emirates  23.424076  53.847818   \n",
              "...                ...                   ...        ...        ...   \n",
              "4143                zw              Zimbabwe -19.015438  29.154857   \n",
              "4144                zw              Zimbabwe -19.015438  29.154857   \n",
              "4145                zw              Zimbabwe -19.015438  29.154857   \n",
              "4146                zw              Zimbabwe -19.015438  29.154857   \n",
              "4147                zw              Zimbabwe -19.015438  29.154857   \n",
              "\n",
              "     base_country_wb_income      base_country_wb_region target_country_code  \\\n",
              "0               High Income  Middle East & North Africa                  af   \n",
              "1               High Income  Middle East & North Africa                  dz   \n",
              "2               High Income  Middle East & North Africa                  ao   \n",
              "3               High Income  Middle East & North Africa                  ar   \n",
              "4               High Income  Middle East & North Africa                  am   \n",
              "...                     ...                         ...                 ...   \n",
              "4143             Low Income          Sub-Saharan Africa                  za   \n",
              "4144             Low Income          Sub-Saharan Africa                  ae   \n",
              "4145             Low Income          Sub-Saharan Africa                  gb   \n",
              "4146             Low Income          Sub-Saharan Africa                  us   \n",
              "4147             Low Income          Sub-Saharan Africa                  zm   \n",
              "\n",
              "       target_country_name  target_lat  target_long target_country_wb_income  \\\n",
              "0              Afghanistan   33.939110    67.709953               Low Income   \n",
              "1                  Algeria   28.033886     1.659626      Upper Middle Income   \n",
              "2                   Angola  -11.202692    17.873887      Lower Middle Income   \n",
              "3                Argentina  -38.416097   -63.616672              High Income   \n",
              "4                  Armenia   40.069099    45.038189      Upper Middle Income   \n",
              "...                    ...         ...          ...                      ...   \n",
              "4143          South Africa  -30.559482    22.937506      Upper Middle Income   \n",
              "4144  United Arab Emirates   23.424076    53.847818              High Income   \n",
              "4145        United Kingdom   55.378051    -3.435973              High Income   \n",
              "4146         United States   37.090240   -95.712891              High Income   \n",
              "4147                Zambia  -13.133897    27.849332      Lower Middle Income   \n",
              "\n",
              "        target_country_wb_region  net_per_10K_2015  net_per_10K_2016  \\\n",
              "0                     South Asia              0.19              0.16   \n",
              "1     Middle East & North Africa              0.19              0.25   \n",
              "2             Sub-Saharan Africa             -0.01              0.04   \n",
              "3      Latin America & Caribbean              0.16              0.18   \n",
              "4          Europe & Central Asia              0.10              0.05   \n",
              "...                          ...               ...               ...   \n",
              "4143          Sub-Saharan Africa             -2.98            -11.79   \n",
              "4144  Middle East & North Africa             -2.50             -2.49   \n",
              "4145       Europe & Central Asia              3.91              4.66   \n",
              "4146               North America             38.60             37.76   \n",
              "4147          Sub-Saharan Africa              0.70              2.47   \n",
              "\n",
              "      net_per_10K_2017  net_per_10K_2018  net_per_10K_2019  \n",
              "0                 0.11             -0.05             -0.02  \n",
              "1                 0.57              0.55              0.78  \n",
              "2                 0.11             -0.02             -0.06  \n",
              "3                 0.04              0.01              0.23  \n",
              "4                 0.03             -0.01              0.02  \n",
              "...                ...               ...               ...  \n",
              "4143             -9.10            -12.08            -20.76  \n",
              "4144             -2.21             -1.68             -3.19  \n",
              "4145              0.74             -0.66             -1.97  \n",
              "4146             10.09              6.06              5.25  \n",
              "4147              0.83              1.21              0.33  \n",
              "\n",
              "[4148 rows x 17 columns]"
            ],
            "text/html": [
              "\n",
              "  <div id=\"df-ee18d75c-f430-4469-b715-481c4551d429\" class=\"colab-df-container\">\n",
              "    <div>\n",
              "<style scoped>\n",
              "    .dataframe tbody tr th:only-of-type {\n",
              "        vertical-align: middle;\n",
              "    }\n",
              "\n",
              "    .dataframe tbody tr th {\n",
              "        vertical-align: top;\n",
              "    }\n",
              "\n",
              "    .dataframe thead th {\n",
              "        text-align: right;\n",
              "    }\n",
              "</style>\n",
              "<table border=\"1\" class=\"dataframe\">\n",
              "  <thead>\n",
              "    <tr style=\"text-align: right;\">\n",
              "      <th></th>\n",
              "      <th>base_country_code</th>\n",
              "      <th>base_country_name</th>\n",
              "      <th>base_lat</th>\n",
              "      <th>base_long</th>\n",
              "      <th>base_country_wb_income</th>\n",
              "      <th>base_country_wb_region</th>\n",
              "      <th>target_country_code</th>\n",
              "      <th>target_country_name</th>\n",
              "      <th>target_lat</th>\n",
              "      <th>target_long</th>\n",
              "      <th>target_country_wb_income</th>\n",
              "      <th>target_country_wb_region</th>\n",
              "      <th>net_per_10K_2015</th>\n",
              "      <th>net_per_10K_2016</th>\n",
              "      <th>net_per_10K_2017</th>\n",
              "      <th>net_per_10K_2018</th>\n",
              "      <th>net_per_10K_2019</th>\n",
              "    </tr>\n",
              "  </thead>\n",
              "  <tbody>\n",
              "    <tr>\n",
              "      <th>0</th>\n",
              "      <td>ae</td>\n",
              "      <td>United Arab Emirates</td>\n",
              "      <td>23.424076</td>\n",
              "      <td>53.847818</td>\n",
              "      <td>High Income</td>\n",
              "      <td>Middle East &amp; North Africa</td>\n",
              "      <td>af</td>\n",
              "      <td>Afghanistan</td>\n",
              "      <td>33.939110</td>\n",
              "      <td>67.709953</td>\n",
              "      <td>Low Income</td>\n",
              "      <td>South Asia</td>\n",
              "      <td>0.19</td>\n",
              "      <td>0.16</td>\n",
              "      <td>0.11</td>\n",
              "      <td>-0.05</td>\n",
              "      <td>-0.02</td>\n",
              "    </tr>\n",
              "    <tr>\n",
              "      <th>1</th>\n",
              "      <td>ae</td>\n",
              "      <td>United Arab Emirates</td>\n",
              "      <td>23.424076</td>\n",
              "      <td>53.847818</td>\n",
              "      <td>High Income</td>\n",
              "      <td>Middle East &amp; North Africa</td>\n",
              "      <td>dz</td>\n",
              "      <td>Algeria</td>\n",
              "      <td>28.033886</td>\n",
              "      <td>1.659626</td>\n",
              "      <td>Upper Middle Income</td>\n",
              "      <td>Middle East &amp; North Africa</td>\n",
              "      <td>0.19</td>\n",
              "      <td>0.25</td>\n",
              "      <td>0.57</td>\n",
              "      <td>0.55</td>\n",
              "      <td>0.78</td>\n",
              "    </tr>\n",
              "    <tr>\n",
              "      <th>2</th>\n",
              "      <td>ae</td>\n",
              "      <td>United Arab Emirates</td>\n",
              "      <td>23.424076</td>\n",
              "      <td>53.847818</td>\n",
              "      <td>High Income</td>\n",
              "      <td>Middle East &amp; North Africa</td>\n",
              "      <td>ao</td>\n",
              "      <td>Angola</td>\n",
              "      <td>-11.202692</td>\n",
              "      <td>17.873887</td>\n",
              "      <td>Lower Middle Income</td>\n",
              "      <td>Sub-Saharan Africa</td>\n",
              "      <td>-0.01</td>\n",
              "      <td>0.04</td>\n",
              "      <td>0.11</td>\n",
              "      <td>-0.02</td>\n",
              "      <td>-0.06</td>\n",
              "    </tr>\n",
              "    <tr>\n",
              "      <th>3</th>\n",
              "      <td>ae</td>\n",
              "      <td>United Arab Emirates</td>\n",
              "      <td>23.424076</td>\n",
              "      <td>53.847818</td>\n",
              "      <td>High Income</td>\n",
              "      <td>Middle East &amp; North Africa</td>\n",
              "      <td>ar</td>\n",
              "      <td>Argentina</td>\n",
              "      <td>-38.416097</td>\n",
              "      <td>-63.616672</td>\n",
              "      <td>High Income</td>\n",
              "      <td>Latin America &amp; Caribbean</td>\n",
              "      <td>0.16</td>\n",
              "      <td>0.18</td>\n",
              "      <td>0.04</td>\n",
              "      <td>0.01</td>\n",
              "      <td>0.23</td>\n",
              "    </tr>\n",
              "    <tr>\n",
              "      <th>4</th>\n",
              "      <td>ae</td>\n",
              "      <td>United Arab Emirates</td>\n",
              "      <td>23.424076</td>\n",
              "      <td>53.847818</td>\n",
              "      <td>High Income</td>\n",
              "      <td>Middle East &amp; North Africa</td>\n",
              "      <td>am</td>\n",
              "      <td>Armenia</td>\n",
              "      <td>40.069099</td>\n",
              "      <td>45.038189</td>\n",
              "      <td>Upper Middle Income</td>\n",
              "      <td>Europe &amp; Central Asia</td>\n",
              "      <td>0.10</td>\n",
              "      <td>0.05</td>\n",
              "      <td>0.03</td>\n",
              "      <td>-0.01</td>\n",
              "      <td>0.02</td>\n",
              "    </tr>\n",
              "    <tr>\n",
              "      <th>...</th>\n",
              "      <td>...</td>\n",
              "      <td>...</td>\n",
              "      <td>...</td>\n",
              "      <td>...</td>\n",
              "      <td>...</td>\n",
              "      <td>...</td>\n",
              "      <td>...</td>\n",
              "      <td>...</td>\n",
              "      <td>...</td>\n",
              "      <td>...</td>\n",
              "      <td>...</td>\n",
              "      <td>...</td>\n",
              "      <td>...</td>\n",
              "      <td>...</td>\n",
              "      <td>...</td>\n",
              "      <td>...</td>\n",
              "      <td>...</td>\n",
              "    </tr>\n",
              "    <tr>\n",
              "      <th>4143</th>\n",
              "      <td>zw</td>\n",
              "      <td>Zimbabwe</td>\n",
              "      <td>-19.015438</td>\n",
              "      <td>29.154857</td>\n",
              "      <td>Low Income</td>\n",
              "      <td>Sub-Saharan Africa</td>\n",
              "      <td>za</td>\n",
              "      <td>South Africa</td>\n",
              "      <td>-30.559482</td>\n",
              "      <td>22.937506</td>\n",
              "      <td>Upper Middle Income</td>\n",
              "      <td>Sub-Saharan Africa</td>\n",
              "      <td>-2.98</td>\n",
              "      <td>-11.79</td>\n",
              "      <td>-9.10</td>\n",
              "      <td>-12.08</td>\n",
              "      <td>-20.76</td>\n",
              "    </tr>\n",
              "    <tr>\n",
              "      <th>4144</th>\n",
              "      <td>zw</td>\n",
              "      <td>Zimbabwe</td>\n",
              "      <td>-19.015438</td>\n",
              "      <td>29.154857</td>\n",
              "      <td>Low Income</td>\n",
              "      <td>Sub-Saharan Africa</td>\n",
              "      <td>ae</td>\n",
              "      <td>United Arab Emirates</td>\n",
              "      <td>23.424076</td>\n",
              "      <td>53.847818</td>\n",
              "      <td>High Income</td>\n",
              "      <td>Middle East &amp; North Africa</td>\n",
              "      <td>-2.50</td>\n",
              "      <td>-2.49</td>\n",
              "      <td>-2.21</td>\n",
              "      <td>-1.68</td>\n",
              "      <td>-3.19</td>\n",
              "    </tr>\n",
              "    <tr>\n",
              "      <th>4145</th>\n",
              "      <td>zw</td>\n",
              "      <td>Zimbabwe</td>\n",
              "      <td>-19.015438</td>\n",
              "      <td>29.154857</td>\n",
              "      <td>Low Income</td>\n",
              "      <td>Sub-Saharan Africa</td>\n",
              "      <td>gb</td>\n",
              "      <td>United Kingdom</td>\n",
              "      <td>55.378051</td>\n",
              "      <td>-3.435973</td>\n",
              "      <td>High Income</td>\n",
              "      <td>Europe &amp; Central Asia</td>\n",
              "      <td>3.91</td>\n",
              "      <td>4.66</td>\n",
              "      <td>0.74</td>\n",
              "      <td>-0.66</td>\n",
              "      <td>-1.97</td>\n",
              "    </tr>\n",
              "    <tr>\n",
              "      <th>4146</th>\n",
              "      <td>zw</td>\n",
              "      <td>Zimbabwe</td>\n",
              "      <td>-19.015438</td>\n",
              "      <td>29.154857</td>\n",
              "      <td>Low Income</td>\n",
              "      <td>Sub-Saharan Africa</td>\n",
              "      <td>us</td>\n",
              "      <td>United States</td>\n",
              "      <td>37.090240</td>\n",
              "      <td>-95.712891</td>\n",
              "      <td>High Income</td>\n",
              "      <td>North America</td>\n",
              "      <td>38.60</td>\n",
              "      <td>37.76</td>\n",
              "      <td>10.09</td>\n",
              "      <td>6.06</td>\n",
              "      <td>5.25</td>\n",
              "    </tr>\n",
              "    <tr>\n",
              "      <th>4147</th>\n",
              "      <td>zw</td>\n",
              "      <td>Zimbabwe</td>\n",
              "      <td>-19.015438</td>\n",
              "      <td>29.154857</td>\n",
              "      <td>Low Income</td>\n",
              "      <td>Sub-Saharan Africa</td>\n",
              "      <td>zm</td>\n",
              "      <td>Zambia</td>\n",
              "      <td>-13.133897</td>\n",
              "      <td>27.849332</td>\n",
              "      <td>Lower Middle Income</td>\n",
              "      <td>Sub-Saharan Africa</td>\n",
              "      <td>0.70</td>\n",
              "      <td>2.47</td>\n",
              "      <td>0.83</td>\n",
              "      <td>1.21</td>\n",
              "      <td>0.33</td>\n",
              "    </tr>\n",
              "  </tbody>\n",
              "</table>\n",
              "<p>4148 rows × 17 columns</p>\n",
              "</div>\n",
              "    <div class=\"colab-df-buttons\">\n",
              "\n",
              "  <div class=\"colab-df-container\">\n",
              "    <button class=\"colab-df-convert\" onclick=\"convertToInteractive('df-ee18d75c-f430-4469-b715-481c4551d429')\"\n",
              "            title=\"Convert this dataframe to an interactive table.\"\n",
              "            style=\"display:none;\">\n",
              "\n",
              "  <svg xmlns=\"http://www.w3.org/2000/svg\" height=\"24px\" viewBox=\"0 -960 960 960\">\n",
              "    <path d=\"M120-120v-720h720v720H120Zm60-500h600v-160H180v160Zm220 220h160v-160H400v160Zm0 220h160v-160H400v160ZM180-400h160v-160H180v160Zm440 0h160v-160H620v160ZM180-180h160v-160H180v160Zm440 0h160v-160H620v160Z\"/>\n",
              "  </svg>\n",
              "    </button>\n",
              "\n",
              "  <style>\n",
              "    .colab-df-container {\n",
              "      display:flex;\n",
              "      gap: 12px;\n",
              "    }\n",
              "\n",
              "    .colab-df-convert {\n",
              "      background-color: #E8F0FE;\n",
              "      border: none;\n",
              "      border-radius: 50%;\n",
              "      cursor: pointer;\n",
              "      display: none;\n",
              "      fill: #1967D2;\n",
              "      height: 32px;\n",
              "      padding: 0 0 0 0;\n",
              "      width: 32px;\n",
              "    }\n",
              "\n",
              "    .colab-df-convert:hover {\n",
              "      background-color: #E2EBFA;\n",
              "      box-shadow: 0px 1px 2px rgba(60, 64, 67, 0.3), 0px 1px 3px 1px rgba(60, 64, 67, 0.15);\n",
              "      fill: #174EA6;\n",
              "    }\n",
              "\n",
              "    .colab-df-buttons div {\n",
              "      margin-bottom: 4px;\n",
              "    }\n",
              "\n",
              "    [theme=dark] .colab-df-convert {\n",
              "      background-color: #3B4455;\n",
              "      fill: #D2E3FC;\n",
              "    }\n",
              "\n",
              "    [theme=dark] .colab-df-convert:hover {\n",
              "      background-color: #434B5C;\n",
              "      box-shadow: 0px 1px 3px 1px rgba(0, 0, 0, 0.15);\n",
              "      filter: drop-shadow(0px 1px 2px rgba(0, 0, 0, 0.3));\n",
              "      fill: #FFFFFF;\n",
              "    }\n",
              "  </style>\n",
              "\n",
              "    <script>\n",
              "      const buttonEl =\n",
              "        document.querySelector('#df-ee18d75c-f430-4469-b715-481c4551d429 button.colab-df-convert');\n",
              "      buttonEl.style.display =\n",
              "        google.colab.kernel.accessAllowed ? 'block' : 'none';\n",
              "\n",
              "      async function convertToInteractive(key) {\n",
              "        const element = document.querySelector('#df-ee18d75c-f430-4469-b715-481c4551d429');\n",
              "        const dataTable =\n",
              "          await google.colab.kernel.invokeFunction('convertToInteractive',\n",
              "                                                    [key], {});\n",
              "        if (!dataTable) return;\n",
              "\n",
              "        const docLinkHtml = 'Like what you see? Visit the ' +\n",
              "          '<a target=\"_blank\" href=https://colab.research.google.com/notebooks/data_table.ipynb>data table notebook</a>'\n",
              "          + ' to learn more about interactive tables.';\n",
              "        element.innerHTML = '';\n",
              "        dataTable['output_type'] = 'display_data';\n",
              "        await google.colab.output.renderOutput(dataTable, element);\n",
              "        const docLink = document.createElement('div');\n",
              "        docLink.innerHTML = docLinkHtml;\n",
              "        element.appendChild(docLink);\n",
              "      }\n",
              "    </script>\n",
              "  </div>\n",
              "\n",
              "\n",
              "<div id=\"df-9e39a3b2-3c8d-4f59-9c21-e096af477222\">\n",
              "  <button class=\"colab-df-quickchart\" onclick=\"quickchart('df-9e39a3b2-3c8d-4f59-9c21-e096af477222')\"\n",
              "            title=\"Suggest charts.\"\n",
              "            style=\"display:none;\">\n",
              "\n",
              "<svg xmlns=\"http://www.w3.org/2000/svg\" height=\"24px\"viewBox=\"0 0 24 24\"\n",
              "     width=\"24px\">\n",
              "    <g>\n",
              "        <path d=\"M19 3H5c-1.1 0-2 .9-2 2v14c0 1.1.9 2 2 2h14c1.1 0 2-.9 2-2V5c0-1.1-.9-2-2-2zM9 17H7v-7h2v7zm4 0h-2V7h2v10zm4 0h-2v-4h2v4z\"/>\n",
              "    </g>\n",
              "</svg>\n",
              "  </button>\n",
              "\n",
              "<style>\n",
              "  .colab-df-quickchart {\n",
              "      --bg-color: #E8F0FE;\n",
              "      --fill-color: #1967D2;\n",
              "      --hover-bg-color: #E2EBFA;\n",
              "      --hover-fill-color: #174EA6;\n",
              "      --disabled-fill-color: #AAA;\n",
              "      --disabled-bg-color: #DDD;\n",
              "  }\n",
              "\n",
              "  [theme=dark] .colab-df-quickchart {\n",
              "      --bg-color: #3B4455;\n",
              "      --fill-color: #D2E3FC;\n",
              "      --hover-bg-color: #434B5C;\n",
              "      --hover-fill-color: #FFFFFF;\n",
              "      --disabled-bg-color: #3B4455;\n",
              "      --disabled-fill-color: #666;\n",
              "  }\n",
              "\n",
              "  .colab-df-quickchart {\n",
              "    background-color: var(--bg-color);\n",
              "    border: none;\n",
              "    border-radius: 50%;\n",
              "    cursor: pointer;\n",
              "    display: none;\n",
              "    fill: var(--fill-color);\n",
              "    height: 32px;\n",
              "    padding: 0;\n",
              "    width: 32px;\n",
              "  }\n",
              "\n",
              "  .colab-df-quickchart:hover {\n",
              "    background-color: var(--hover-bg-color);\n",
              "    box-shadow: 0 1px 2px rgba(60, 64, 67, 0.3), 0 1px 3px 1px rgba(60, 64, 67, 0.15);\n",
              "    fill: var(--button-hover-fill-color);\n",
              "  }\n",
              "\n",
              "  .colab-df-quickchart-complete:disabled,\n",
              "  .colab-df-quickchart-complete:disabled:hover {\n",
              "    background-color: var(--disabled-bg-color);\n",
              "    fill: var(--disabled-fill-color);\n",
              "    box-shadow: none;\n",
              "  }\n",
              "\n",
              "  .colab-df-spinner {\n",
              "    border: 2px solid var(--fill-color);\n",
              "    border-color: transparent;\n",
              "    border-bottom-color: var(--fill-color);\n",
              "    animation:\n",
              "      spin 1s steps(1) infinite;\n",
              "  }\n",
              "\n",
              "  @keyframes spin {\n",
              "    0% {\n",
              "      border-color: transparent;\n",
              "      border-bottom-color: var(--fill-color);\n",
              "      border-left-color: var(--fill-color);\n",
              "    }\n",
              "    20% {\n",
              "      border-color: transparent;\n",
              "      border-left-color: var(--fill-color);\n",
              "      border-top-color: var(--fill-color);\n",
              "    }\n",
              "    30% {\n",
              "      border-color: transparent;\n",
              "      border-left-color: var(--fill-color);\n",
              "      border-top-color: var(--fill-color);\n",
              "      border-right-color: var(--fill-color);\n",
              "    }\n",
              "    40% {\n",
              "      border-color: transparent;\n",
              "      border-right-color: var(--fill-color);\n",
              "      border-top-color: var(--fill-color);\n",
              "    }\n",
              "    60% {\n",
              "      border-color: transparent;\n",
              "      border-right-color: var(--fill-color);\n",
              "    }\n",
              "    80% {\n",
              "      border-color: transparent;\n",
              "      border-right-color: var(--fill-color);\n",
              "      border-bottom-color: var(--fill-color);\n",
              "    }\n",
              "    90% {\n",
              "      border-color: transparent;\n",
              "      border-bottom-color: var(--fill-color);\n",
              "    }\n",
              "  }\n",
              "</style>\n",
              "\n",
              "  <script>\n",
              "    async function quickchart(key) {\n",
              "      const quickchartButtonEl =\n",
              "        document.querySelector('#' + key + ' button');\n",
              "      quickchartButtonEl.disabled = true;  // To prevent multiple clicks.\n",
              "      quickchartButtonEl.classList.add('colab-df-spinner');\n",
              "      try {\n",
              "        const charts = await google.colab.kernel.invokeFunction(\n",
              "            'suggestCharts', [key], {});\n",
              "      } catch (error) {\n",
              "        console.error('Error during call to suggestCharts:', error);\n",
              "      }\n",
              "      quickchartButtonEl.classList.remove('colab-df-spinner');\n",
              "      quickchartButtonEl.classList.add('colab-df-quickchart-complete');\n",
              "    }\n",
              "    (() => {\n",
              "      let quickchartButtonEl =\n",
              "        document.querySelector('#df-9e39a3b2-3c8d-4f59-9c21-e096af477222 button');\n",
              "      quickchartButtonEl.style.display =\n",
              "        google.colab.kernel.accessAllowed ? 'block' : 'none';\n",
              "    })();\n",
              "  </script>\n",
              "</div>\n",
              "    </div>\n",
              "  </div>\n"
            ]
          },
          "metadata": {},
          "execution_count": 12
        }
      ]
    },
    {
      "cell_type": "markdown",
      "source": [
        "# Exercise 1\n",
        "\n",
        "---\n",
        "\\\n",
        "Write a function that will take the `skill_migration` dataframe as a parameter and will:\n",
        "*  filter for the rows where the `wb_income` contains `High income`.\n",
        "*  return the number of rows (length of the dataframe)."
      ],
      "metadata": {
        "id": "fL-D9LkmNr9g"
      }
    },
    {
      "cell_type": "code",
      "source": [
        "import pandas as pd\n",
        "\n",
        "skill_migration = pd.read_excel('https://github.com/futureCodersSE/working-with-data/blob/main/Data%20sets/public_use-talent-migration.xlsx?raw=true', \"Skill Migration\")\n",
        "\n",
        "def filter_income(df):\n",
        "  # add code below to find the number of high income countries using the wb_income column\n",
        "  filtered = df[df['wb_income'] == 'High income']\n",
        "  return filtered['wb_income'].count()\n",
        "\n",
        "#run test to see if you are getting the correct row length\n",
        "actual = filter_income(skill_migration)\n",
        "expected = 8904\n",
        "\n",
        "if actual == expected:\n",
        "  print(\"Test passed!\\nExpected: {}\\nActual: {}\".format(expected, actual))\n",
        "else:\n",
        "  print(\"Test failed!\\nExpected: {}\\nActual: {}\".format(expected, actual))"
      ],
      "metadata": {
        "id": "IHHR1T1kOZmq",
        "outputId": "367c87e7-d3df-4fe5-f1cf-bf54fce55f15",
        "colab": {
          "base_uri": "https://localhost:8080/"
        }
      },
      "execution_count": 4,
      "outputs": [
        {
          "output_type": "stream",
          "name": "stdout",
          "text": [
            "Test passed!\n",
            "Expected: 8904\n",
            "Actual: 8904\n"
          ]
        }
      ]
    },
    {
      "cell_type": "markdown",
      "source": [
        "# Exercise 2\n",
        "\n",
        "---\n",
        "\\\n",
        "Write a function that will take the `skill_migration` dataframe, and a particular type of `skill` (e.g. Tech skills) as parameters and will:\n",
        "*  filter for the rows that have a `skill_group_category` equal to the given `skill`.\n",
        "*  return the country that shows up the most in the `country_name` column of the filtered dataframe."
      ],
      "metadata": {
        "id": "rO3uDHEEPhIp"
      }
    },
    {
      "cell_type": "code",
      "source": [
        "import pandas as pd\n",
        "\n",
        "skill_migration = pd.read_excel('https://github.com/futureCodersSE/working-with-data/blob/main/Data%20sets/public_use-talent-migration.xlsx?raw=true', \"Skill Migration\")\n",
        "\n",
        "def filter_skills(df, skill):\n",
        "  # add code below to find all rows that have the skill 'skill' and return the most common country (mode)\n",
        "  filtered = df[df['skill_group_category'] == skill]\n",
        "  return filtered['country_name'].mode()\n",
        "\n",
        "\n",
        "\n",
        "#run test to see if you are getting the most frequent country name\n",
        "tests = [\n",
        "    { \"id\": 1, \"actual\": filter_skills(skill_migration, \"Tech Skills\")[0], \"expected\": \"Australia\" },\n",
        "    { \"id\": 2, \"actual\": filter_skills(skill_migration, \"Business Skills\")[0], \"expected\": \"Australia\" },\n",
        "    { \"id\": 3, \"actual\": filter_skills(skill_migration, \"Specialized Industry Skills\")[0], \"expected\": \"United Kingdom\" }\n",
        "]\n",
        "\n",
        "for test in tests:\n",
        "  if test[\"actual\"] == test[\"expected\"]:\n",
        "    print(\"Test {} passed!\\nExpected: {}\\nActual: {}\\n\".format(test[\"id\"], test[\"expected\"], test[\"actual\"]))\n",
        "  else:\n",
        "    print(\"Test {} failed!\\nExpected: {}\\nActual: {}\\n\".format(test[\"id\"], test[\"expected\"], test[\"actual\"]))"
      ],
      "metadata": {
        "id": "aYfnMp0RQ4Dr",
        "outputId": "035db73c-d5da-4281-a9c1-b06f3eb5b984",
        "colab": {
          "base_uri": "https://localhost:8080/"
        }
      },
      "execution_count": 5,
      "outputs": [
        {
          "output_type": "stream",
          "name": "stdout",
          "text": [
            "Test 1 passed!\n",
            "Expected: Australia\n",
            "Actual: Australia\n",
            "\n",
            "Test 2 passed!\n",
            "Expected: Australia\n",
            "Actual: Australia\n",
            "\n",
            "Test 3 passed!\n",
            "Expected: United Kingdom\n",
            "Actual: United Kingdom\n",
            "\n"
          ]
        }
      ]
    },
    {
      "cell_type": "markdown",
      "source": [
        "# Exercise 3\n",
        "\n",
        "---\n",
        "\\\n",
        "Write a function that will take the `skill_migration` dataframe as a parameter and will:\n",
        "*  filter, using two conditions, for the rows where `skill_group_id` is `2265` and `net_per_10K_2019` is greater than `-500`.\n",
        "*  sort the rows in ascending order based on `net_per_10K_2019`\n",
        "*  return the first 5 rows."
      ],
      "metadata": {
        "id": "hs4N75oOQ5vy"
      }
    },
    {
      "cell_type": "code",
      "source": [
        "def filter_skill_id(df):\n",
        "  # add code below to find all rows that the skill id 2265 with greater than -500 migration and return the first 5 rows when sorted into order of net_per_10K_2019\n",
        "  filtered = df[(df['skill_group_id'] == 2265) & (df['net_per_10K_2019'] >= -500)]\n",
        "  sorted = filtered.sort_values(by = 'net_per_10K_2019', ascending = True)\n",
        "  return sorted.head(5)\n",
        "\n",
        "\n",
        "\n",
        "#run test to see if you are getting the correct first row and only returning 5 items\n",
        "filtered_df = filter_skill_id(skill_migration)\n",
        "actual1 = filtered_df.index[0]\n",
        "expected1 = 14550\n",
        "actual2 = len(filtered_df)\n",
        "expected2 = 5\n",
        "\n",
        "if actual1 == expected1 and actual2 == expected2:\n",
        "  print(\"Test passed!\\nExpected: {} & {}\\nActual: {} & {}\".format(expected1, expected2, actual1, actual2))\n",
        "else:\n",
        "  print(\"Test failed!\\nExpected: {} & {}\\nActual: {} & {}\".format(expected1, expected2, actual1, actual2))"
      ],
      "metadata": {
        "id": "eYuGy4UXQ4um",
        "outputId": "e4453512-f973-4015-84f0-c3f3609ee986",
        "colab": {
          "base_uri": "https://localhost:8080/"
        }
      },
      "execution_count": 6,
      "outputs": [
        {
          "output_type": "stream",
          "name": "stdout",
          "text": [
            "Test passed!\n",
            "Expected: 14550 & 5\n",
            "Actual: 14550 & 5\n"
          ]
        }
      ]
    },
    {
      "cell_type": "markdown",
      "source": [
        "# Exercise 4\n",
        "\n",
        "---\n",
        "\\\n",
        "Write a function that will take the country_migration dataframe and an amount of net per 10K migrations as parameters and will:\n",
        "*  filter for all rows with a `net_per_10K_2019` less than `amount`\n",
        "*  return the number of rows.\n",
        "\n"
      ],
      "metadata": {
        "id": "br8aWPZvRnhA"
      }
    },
    {
      "cell_type": "code",
      "source": [
        "import pandas as pd\n",
        "\n",
        "country_migration = pd.read_excel('https://github.com/futureCodersSE/working-with-data/blob/main/Data%20sets/public_use-talent-migration.xlsx?raw=true', \"Country Migration\")\n",
        "\n",
        "def filter_net_per_10k(df, amount):\n",
        "  # add code below to find all the rows where the net_per_10K_2019 is less than the `amount` parameter\n",
        "  filtered = df[df['net_per_10K_2019'] < amount]\n",
        "  return len(filtered)\n",
        "\n",
        "\n",
        "#run test to see if you are getting the correct first row and only returning 5 items\n",
        "tests = [\n",
        "    { \"id\": 1, \"actual\": filter_net_per_10k(country_migration, 100), \"expected\": 4148 },\n",
        "    { \"id\": 2, \"actual\": filter_net_per_10k(country_migration, 0), \"expected\": 1980 },\n",
        "    { \"id\": 3, \"actual\": filter_net_per_10k(country_migration, -100), \"expected\": 0 }\n",
        "]\n",
        "\n",
        "for test in tests:\n",
        "  if test[\"actual\"] == test[\"expected\"]:\n",
        "    print(\"Test {} passed!\\nExpected: {}\\nActual: {}\\n\".format(test[\"id\"], test[\"expected\"], test[\"actual\"]))\n",
        "  else:\n",
        "    print(\"Test {} failed!\\nExpected: {}\\nActual: {}\\n\".format(test[\"id\"], test[\"expected\"], test[\"actual\"]))"
      ],
      "metadata": {
        "id": "6qL6UNVBRo80",
        "outputId": "cfb79f9b-33ca-4b7a-9621-9f5e390d1956",
        "colab": {
          "base_uri": "https://localhost:8080/"
        }
      },
      "execution_count": 9,
      "outputs": [
        {
          "output_type": "stream",
          "name": "stdout",
          "text": [
            "Test 1 passed!\n",
            "Expected: 4148\n",
            "Actual: 4148\n",
            "\n",
            "Test 2 passed!\n",
            "Expected: 1980\n",
            "Actual: 1980\n",
            "\n",
            "Test 3 passed!\n",
            "Expected: 0\n",
            "Actual: 0\n",
            "\n"
          ]
        }
      ]
    },
    {
      "cell_type": "markdown",
      "source": [
        "# Exercise 5\n",
        "\n",
        "---\n",
        "\\\n",
        "Write a function that will take the `country_migration` dataframe as a parameter and will:\n",
        "*  filter for all rows that have a `net_per_10K_2015` & `net_per_10K_2016` greater than `50`.\n",
        "*  return the number of rows"
      ],
      "metadata": {
        "id": "lFXbG6c2SUik"
      }
    },
    {
      "cell_type": "code",
      "source": [
        "def filter_two_net(df):\n",
        "  # add code below to find rows which have migration in 2015 & 2016 greater than 50\n",
        "  filtered = df[(df['net_per_10K_2015'] > 50) & (df['net_per_10K_2016'] > 50)]\n",
        "  return len(filtered)\n",
        "\n",
        "\n",
        "#run test to see if you are getting the correct length of rows\n",
        "actual = filter_two_net(country_migration)\n",
        "expected = 3\n",
        "\n",
        "if actual == expected:\n",
        "  print(\"Test passed!\\nExpected: {}\\nActual: {}\".format(expected, actual))\n",
        "else:\n",
        "  print(\"Test failed!\\nExpected: {}\\nActual: {}\".format(expected, actual))"
      ],
      "metadata": {
        "id": "CxfijlHGSW60",
        "outputId": "eedbbf02-8cff-46cc-cd1f-959ff9ee442d",
        "colab": {
          "base_uri": "https://localhost:8080/"
        }
      },
      "execution_count": 11,
      "outputs": [
        {
          "output_type": "stream",
          "name": "stdout",
          "text": [
            "Test passed!\n",
            "Expected: 3\n",
            "Actual: 3\n"
          ]
        }
      ]
    },
    {
      "cell_type": "markdown",
      "source": [
        "# Exercise 6\n",
        "\n",
        "---\n",
        "\\\n",
        "Write a function that will take the `country_migration` dataframe as a parameter and will:\n",
        "*  filter for all migrations from countries with `Low Income` to countries with `Upper Middle Income`and within the same region ( `base_country_wb_region` is the same as `target_country_wb_region`)\n",
        "*  display the number of rows."
      ],
      "metadata": {
        "id": "OJuBYhzaS3r1"
      }
    },
    {
      "cell_type": "code",
      "source": [
        "def filter_two_income(df):\n",
        "  # add code below to find all rows of migration from low income to upper middle income and where migration was to the same region\n",
        "  filtered = df[(df['base_country_wb_region'] == df['target_country_wb_region']) & (df['base_country_wb_income'] == 'Low Income') & (df['target_country_wb_income'] == 'Upper Middle Income')]\n",
        "  return len(filtered)\n",
        "\n",
        "\n",
        "\n",
        "#run test to see if you are getting the correct first length of rows\n",
        "actual = filter_two_income(country_migration)\n",
        "expected = 15\n",
        "\n",
        "if actual == expected:\n",
        "  print(\"Test passed!\\nExpected: {}\\nActual: {}\".format(expected, actual))\n",
        "else:\n",
        "  print(\"Test failed!\\nExpected: {}\\nActual: {}\".format(expected, actual))"
      ],
      "metadata": {
        "id": "Wq0i2dCYTPxE",
        "outputId": "b63c314a-cdf9-42ab-ce4f-5c0108c390e1",
        "colab": {
          "base_uri": "https://localhost:8080/"
        }
      },
      "execution_count": 14,
      "outputs": [
        {
          "output_type": "stream",
          "name": "stdout",
          "text": [
            "Test passed!\n",
            "Expected: 15\n",
            "Actual: 15\n"
          ]
        }
      ]
    },
    {
      "cell_type": "markdown",
      "source": [
        "# Exercise 7\n",
        "\n",
        "---\n",
        "\\\n",
        "Write a function that will take the `industry_migration` dataframe as a parameter and will:\n",
        "*  filter for all rows which have a `isic_section_index` of `M` and the `industry_name`,  `Biotechnology`\n",
        "*  return the number of rows."
      ],
      "metadata": {
        "id": "aDvp-O4LTXbp"
      }
    },
    {
      "cell_type": "code",
      "source": [
        "def filter_industry(df):\n",
        "  # add code below to find all the rows from biotechnology industry with isic section index of M\n",
        "  filtered = df[(df['isic_section_index'] == 'M') & (df['industry_name'] == 'Biotechnology')]\n",
        "  return len(filtered)\n",
        "\n",
        "\n",
        "\n",
        "\n",
        "#run test to see if you are getting the correct length of rows\n",
        "actual = filter_industry(industry_migration)\n",
        "expected = 32\n",
        "\n",
        "if actual == expected:\n",
        "  print(\"Test passed!\\nExpected: {}\\nActual: {}\".format(expected, actual))\n",
        "else:\n",
        "  print(\"Test failed!\\nExpected: {}\\nActual: {}\".format(expected, actual))"
      ],
      "metadata": {
        "id": "n_V5moucTRnP",
        "outputId": "d9168989-f97c-4a1f-abe2-0c052dc9414c",
        "colab": {
          "base_uri": "https://localhost:8080/"
        }
      },
      "execution_count": 15,
      "outputs": [
        {
          "output_type": "stream",
          "name": "stdout",
          "text": [
            "Test passed!\n",
            "Expected: 32\n",
            "Actual: 32\n"
          ]
        }
      ]
    },
    {
      "cell_type": "markdown",
      "source": [
        "# Exercise 8\n",
        "\n",
        "---\n",
        "\\\n",
        "Write a function that will take the `industry_migration` dataframe as a parameter and will:\n",
        "*  filter for all rows with `industry_name` of `Computer Software` that have a `wb_income` of `Low income`.\n",
        "*  return the filtered dataframe"
      ],
      "metadata": {
        "id": "Pu-V4x7oTXg3"
      }
    },
    {
      "cell_type": "code",
      "source": [
        "def filter_industry_income(df):\n",
        "  # add code below to find Low Income Computer Software migrations, return the full set of filtered data\n",
        "  filtered = df[(df['industry_name'] == 'Computer Software') & (df['wb_income'] == 'Low income')]\n",
        "  return filtered\n",
        "\n",
        "\n",
        "\n",
        "#run test to see if you are getting the correct first row and only returning 1 item\n",
        "filtered_df = filter_industry_income(industry_migration)\n",
        "actual1 = filtered_df.index[0]\n",
        "expected1 = 3699\n",
        "actual2 = len(filtered_df)\n",
        "expected2 = 1\n",
        "\n",
        "if actual1 == expected1 and actual2 == expected2:\n",
        "  print(\"Test passed!\\nExpected: {} & {}\\nActual: {} & {}\".format(expected1, expected2, actual1, actual2))\n",
        "else:\n",
        "  print(\"Test failed!\\nExpected: {} & {}\\nActual: {} & {}\".format(expected1, expected2, actual1, actual2))"
      ],
      "metadata": {
        "id": "WqVliNlGTWXV",
        "outputId": "463bd835-efbb-4d92-f3dd-666d0d046e97",
        "colab": {
          "base_uri": "https://localhost:8080/"
        }
      },
      "execution_count": 16,
      "outputs": [
        {
          "output_type": "stream",
          "name": "stdout",
          "text": [
            "Test passed!\n",
            "Expected: 3699 & 1\n",
            "Actual: 3699 & 1\n"
          ]
        }
      ]
    },
    {
      "cell_type": "markdown",
      "source": [
        "# Exercise 9\n",
        "\n",
        "---\n",
        "\\\n",
        "Write a function that will take the `industry_migration` dataframe as a parameter and will:\n",
        "*  filter for all rows with `country_name` of United States or United Kingdom and a `isic_section_index` of M\n",
        "*  return the average of `net_per_10K_2015`."
      ],
      "metadata": {
        "id": "O7o6mgU2TXl_"
      }
    },
    {
      "cell_type": "code",
      "source": [
        "def filter_country(df):\n",
        "  # add code below to find all USA and UK rows which have ISIC of M and return mean migration in 2015\n",
        "  filtered = df[(df['isic_section_index'] == 'M') & ((df['country_name'] == 'United States') | (df['country_name'] == 'United Kingdom'))]\n",
        "  return filtered['net_per_10K_2015'].mean()\n",
        "\n",
        "#run test to see if you are getting the correct average\n",
        "actual = round(filter_country(industry_migration), 2)\n",
        "expected = 47.28\n",
        "\n",
        "if actual == expected:\n",
        "  print(\"Test passed!\\nExpected: {}\\nActual: {}\".format(expected, actual))\n",
        "else:\n",
        "  print(\"Test failed!\\nExpected: {}\\nActual: {}\".format(expected, actual))"
      ],
      "metadata": {
        "id": "izOkixeATWd_",
        "outputId": "2cb8f059-5128-4837-e185-888c488e4042",
        "colab": {
          "base_uri": "https://localhost:8080/"
        }
      },
      "execution_count": 17,
      "outputs": [
        {
          "output_type": "stream",
          "name": "stdout",
          "text": [
            "Test passed!\n",
            "Expected: 47.28\n",
            "Actual: 47.28\n"
          ]
        }
      ]
    },
    {
      "cell_type": "markdown",
      "source": [
        "# Exercise 10\n",
        "---\n",
        "\\\n",
        "Write a function that will take the `country_migration` dataframe and a base region as paramters and will:\n",
        "*  filter for all migrations to Upper Middle Income and High Income regions (`target_country_wb_income`) from the given region (`base_country_wb_region`)"
      ],
      "metadata": {
        "id": "5tRpo0nz_8I7"
      }
    },
    {
      "cell_type": "code",
      "source": [
        "def filter_migrations(df, region):\n",
        "  filtered = df[(df['base_country_wb_region'] == region) & ((df['target_country_wb_income'] == 'Upper Middle Income') | (df['target_country_wb_income'] == 'High Income'))]\n",
        "  return len(filtered)\n",
        "\n",
        "\n",
        "\n",
        "# run test to see if you are getting the correct result\n",
        "actual = filter_migrations(country_migration, \"Middle East & North Africa\")\n",
        "expected = 432\n",
        "if actual == expected:\n",
        "  print(\"Test passed!\\nExpected: {}\\nActual: {}\".format(expected, actual))\n",
        "else:\n",
        "  print(\"Test failed!\\nExpected: {}\\nActual: {}\".format(expected, actual))"
      ],
      "metadata": {
        "id": "LgpA-IDkANsa",
        "outputId": "dd2509eb-5b85-470d-9d68-e9029b7405b0",
        "colab": {
          "base_uri": "https://localhost:8080/"
        }
      },
      "execution_count": 19,
      "outputs": [
        {
          "output_type": "stream",
          "name": "stdout",
          "text": [
            "Test passed!\n",
            "Expected: 432\n",
            "Actual: 432\n"
          ]
        }
      ]
    },
    {
      "cell_type": "markdown",
      "metadata": {
        "id": "yQyytEbnZ1lw"
      },
      "source": [
        "# Reflection\n",
        "----\n",
        "\n",
        "## What skills have you demonstrated in completing this notebook?"
      ]
    },
    {
      "cell_type": "markdown",
      "metadata": {
        "id": "MM00hR5aZk1-"
      },
      "source": [
        "Your answer:"
      ]
    },
    {
      "cell_type": "markdown",
      "metadata": {
        "id": "Zgexd27sZ1ly"
      },
      "source": [
        "## What caused you the most difficulty?"
      ]
    },
    {
      "cell_type": "markdown",
      "metadata": {
        "id": "-Y_nrVBwaGXr"
      },
      "source": [
        "Your answer:"
      ]
    }
  ]
}