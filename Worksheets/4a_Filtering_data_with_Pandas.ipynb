{
  "nbformat": 4,
  "nbformat_minor": 0,
  "metadata": {
    "colab": {
      "provenance": [],
      "include_colab_link": true
    },
    "kernelspec": {
      "name": "python3",
      "display_name": "Python 3"
    },
    "language_info": {
      "name": "python"
    }
  },
  "cells": [
    {
      "cell_type": "markdown",
      "metadata": {
        "id": "view-in-github",
        "colab_type": "text"
      },
      "source": [
        "<a href=\"https://colab.research.google.com/github/zhi-yu-lin/data-and-python/blob/main/Worksheets/4a_Filtering_data_with_Pandas.ipynb\" target=\"_parent\"><img src=\"https://colab.research.google.com/assets/colab-badge.svg\" alt=\"Open In Colab\"/></a>"
      ]
    },
    {
      "cell_type": "markdown",
      "source": [
        "# Filtering dataframe data\n",
        "\n",
        "Interrogating dataframes\n",
        "---\n",
        "\n",
        "*   single column: `df['column']`\n",
        "*   multiple columns: `df[['column1', 'column2']]`\n",
        "*   filter rows by condition \t`df[df['column'] = condition]`  \n",
        "*   filter by multiple conditions where both are true (AND)  \n",
        "\t`df[(df['column'] = condition1) & (df['column'] = condition2)]`  \n",
        "*   filter by multiple conditions where one or other are true (OR)  \n",
        "\t`df[(df['column'] = condition1)  | (df['column'] = condition2)]`  \n",
        "\n",
        "### Useful Functions\n",
        "\n",
        "---\n",
        "\n",
        "`head()`: will show the first 5 rows of the dataframe.  \n",
        "`tail()`: same as head() but for the last 5 rows.  \n",
        "`len()`: will show the length.  \n",
        "`mode()`: will show the most common value in column.  \n",
        "`mean()`: will show the average of the column.  \n",
        "`sort_values()`: will sort the dataframe.\n",
        "\n",
        "\n",
        "\n"
      ],
      "metadata": {
        "id": "3HT6psayWFCc"
      }
    },
    {
      "cell_type": "markdown",
      "source": [
        "## Data Imports & Table Content\n",
        "\n",
        "---\n",
        "\n",
        "In this worksheet you will use data from a dataset in an Excel spreadsheet called public_use-talent-migration.xlsx. This spreadsheet file contains 3 sheets, each with related but different data on migration.   \n",
        "\n",
        "Running the code below will create a dataframe from each of the 3 sheets and will display the column names and data types so that you can start to get an idea of what is in the data.\n",
        "\n",
        "You can then use these dataframes in the exercises, rather than keep re-reading the original files. The 3 dataframes will be called:\n",
        "\n",
        "*  skill_migration\n",
        "*  industry_migration\n",
        "*  country_migration"
      ],
      "metadata": {
        "id": "szKiU-timLdN"
      }
    },
    {
      "cell_type": "code",
      "source": [
        "import pandas as pd\n",
        "\n",
        "skill_migration = pd.read_excel('https://github.com/futureCodersSE/working-with-data/blob/main/Data%20sets/public_use-talent-migration.xlsx?raw=true', \"Skill Migration\")\n",
        "industry_migration = pd.read_excel('https://github.com/futureCodersSE/working-with-data/blob/main/Data%20sets/public_use-talent-migration.xlsx?raw=true', \"Industry Migration\")\n",
        "country_migration = pd.read_excel('https://github.com/futureCodersSE/working-with-data/blob/main/Data%20sets/public_use-talent-migration.xlsx?raw=true', \"Country Migration\")\n",
        "\n",
        "def get_summary(df):\n",
        "  display(df.info())\n",
        "\n",
        "get_summary(skill_migration)\n",
        "get_summary(industry_migration)\n",
        "get_summary(country_migration)\n"
      ],
      "metadata": {
        "id": "ZG_96PAAhaVY",
        "outputId": "4cc63284-b5fd-4ac8-c30c-1ebc13ee93ef",
        "colab": {
          "base_uri": "https://localhost:8080/",
          "height": 1000
        }
      },
      "execution_count": 1,
      "outputs": [
        {
          "output_type": "stream",
          "name": "stdout",
          "text": [
            "<class 'pandas.core.frame.DataFrame'>\n",
            "RangeIndex: 17617 entries, 0 to 17616\n",
            "Data columns (total 12 columns):\n",
            " #   Column                Non-Null Count  Dtype  \n",
            "---  ------                --------------  -----  \n",
            " 0   country_code          17617 non-null  object \n",
            " 1   country_name          17617 non-null  object \n",
            " 2   wb_income             17617 non-null  object \n",
            " 3   wb_region             17617 non-null  object \n",
            " 4   skill_group_id        17617 non-null  int64  \n",
            " 5   skill_group_category  17617 non-null  object \n",
            " 6   skill_group_name      17617 non-null  object \n",
            " 7   net_per_10K_2015      17617 non-null  float64\n",
            " 8   net_per_10K_2016      17617 non-null  float64\n",
            " 9   net_per_10K_2017      17617 non-null  float64\n",
            " 10  net_per_10K_2018      17617 non-null  float64\n",
            " 11  net_per_10K_2019      17617 non-null  float64\n",
            "dtypes: float64(5), int64(1), object(6)\n",
            "memory usage: 1.6+ MB\n"
          ]
        },
        {
          "output_type": "display_data",
          "data": {
            "text/plain": [
              "None"
            ]
          },
          "metadata": {}
        },
        {
          "output_type": "stream",
          "name": "stdout",
          "text": [
            "<class 'pandas.core.frame.DataFrame'>\n",
            "RangeIndex: 5295 entries, 0 to 5294\n",
            "Data columns (total 13 columns):\n",
            " #   Column              Non-Null Count  Dtype  \n",
            "---  ------              --------------  -----  \n",
            " 0   country_code        5295 non-null   object \n",
            " 1   country_name        5295 non-null   object \n",
            " 2   wb_income           5295 non-null   object \n",
            " 3   wb_region           5295 non-null   object \n",
            " 4   isic_section_index  5295 non-null   object \n",
            " 5   isic_section_name   5295 non-null   object \n",
            " 6   industry_id         5295 non-null   int64  \n",
            " 7   industry_name       5295 non-null   object \n",
            " 8   net_per_10K_2015    5295 non-null   float64\n",
            " 9   net_per_10K_2016    5295 non-null   float64\n",
            " 10  net_per_10K_2017    5295 non-null   float64\n",
            " 11  net_per_10K_2018    5295 non-null   float64\n",
            " 12  net_per_10K_2019    5295 non-null   float64\n",
            "dtypes: float64(5), int64(1), object(7)\n",
            "memory usage: 537.9+ KB\n"
          ]
        },
        {
          "output_type": "display_data",
          "data": {
            "text/plain": [
              "None"
            ]
          },
          "metadata": {}
        },
        {
          "output_type": "stream",
          "name": "stdout",
          "text": [
            "<class 'pandas.core.frame.DataFrame'>\n",
            "RangeIndex: 4148 entries, 0 to 4147\n",
            "Data columns (total 17 columns):\n",
            " #   Column                    Non-Null Count  Dtype  \n",
            "---  ------                    --------------  -----  \n",
            " 0   base_country_code         4148 non-null   object \n",
            " 1   base_country_name         4148 non-null   object \n",
            " 2   base_lat                  4148 non-null   float64\n",
            " 3   base_long                 4148 non-null   float64\n",
            " 4   base_country_wb_income    4148 non-null   object \n",
            " 5   base_country_wb_region    4148 non-null   object \n",
            " 6   target_country_code       4148 non-null   object \n",
            " 7   target_country_name       4148 non-null   object \n",
            " 8   target_lat                4148 non-null   float64\n",
            " 9   target_long               4148 non-null   float64\n",
            " 10  target_country_wb_income  4148 non-null   object \n",
            " 11  target_country_wb_region  4148 non-null   object \n",
            " 12  net_per_10K_2015          4148 non-null   float64\n",
            " 13  net_per_10K_2016          4148 non-null   float64\n",
            " 14  net_per_10K_2017          4148 non-null   float64\n",
            " 15  net_per_10K_2018          4148 non-null   float64\n",
            " 16  net_per_10K_2019          4148 non-null   float64\n",
            "dtypes: float64(9), object(8)\n",
            "memory usage: 551.0+ KB\n"
          ]
        },
        {
          "output_type": "display_data",
          "data": {
            "text/plain": [
              "None"
            ]
          },
          "metadata": {}
        },
        {
          "output_type": "execute_result",
          "data": {
            "text/plain": [
              "      country_code country_name   wb_income            wb_region  \\\n",
              "0               af  Afghanistan  Low income           South Asia   \n",
              "1               af  Afghanistan  Low income           South Asia   \n",
              "2               af  Afghanistan  Low income           South Asia   \n",
              "3               af  Afghanistan  Low income           South Asia   \n",
              "4               af  Afghanistan  Low income           South Asia   \n",
              "...            ...          ...         ...                  ...   \n",
              "17612           zw     Zimbabwe  Low income  Sub-Saharan Africa    \n",
              "17613           zw     Zimbabwe  Low income  Sub-Saharan Africa    \n",
              "17614           zw     Zimbabwe  Low income  Sub-Saharan Africa    \n",
              "17615           zw     Zimbabwe  Low income  Sub-Saharan Africa    \n",
              "17616           zw     Zimbabwe  Low income  Sub-Saharan Africa    \n",
              "\n",
              "       skill_group_id         skill_group_category        skill_group_name  \\\n",
              "0                2549                  Tech Skills  Information Management   \n",
              "1                2608              Business Skills  Operational Efficiency   \n",
              "2                3806  Specialized Industry Skills       National Security   \n",
              "3               50321                  Tech Skills        Software Testing   \n",
              "4                1606  Specialized Industry Skills                    Navy   \n",
              "...               ...                          ...                     ...   \n",
              "17612           12666  Specialized Industry Skills                Teaching   \n",
              "17613            1235  Specialized Industry Skills                  Mining   \n",
              "17614           43756  Specialized Industry Skills       Personal Coaching   \n",
              "17615            1724  Specialized Industry Skills           Public Health   \n",
              "17616             172  Specialized Industry Skills                     Law   \n",
              "\n",
              "       net_per_10K_2015  net_per_10K_2016  net_per_10K_2017  net_per_10K_2018  \\\n",
              "0               -791.59           -705.88           -550.04           -680.92   \n",
              "1              -1610.25           -933.55           -776.06           -532.22   \n",
              "2              -1731.45           -769.68           -756.59           -600.44   \n",
              "3               -957.50           -828.54           -964.73           -406.50   \n",
              "4              -1510.71           -841.17           -842.32           -581.71   \n",
              "...                 ...               ...               ...               ...   \n",
              "17612             71.18             30.68            -18.85            -68.89   \n",
              "17613              8.97           -112.85            -35.87            -65.38   \n",
              "17614            -53.45            -59.70            -88.01            -55.90   \n",
              "17615             15.25            -65.53            -57.22            -39.39   \n",
              "17616             40.85             47.16            -31.24             -8.24   \n",
              "\n",
              "       net_per_10K_2019  \n",
              "0              -1208.79  \n",
              "1               -790.09  \n",
              "2               -767.64  \n",
              "3               -739.51  \n",
              "4               -718.64  \n",
              "...                 ...  \n",
              "17612            -93.70  \n",
              "17613            -93.46  \n",
              "17614            -82.23  \n",
              "17615            -32.14  \n",
              "17616            -25.52  \n",
              "\n",
              "[17617 rows x 12 columns]"
            ],
            "text/html": [
              "\n",
              "  <div id=\"df-b049d8e2-e514-4aa1-8160-4d2e7b3c75b2\" class=\"colab-df-container\">\n",
              "    <div>\n",
              "<style scoped>\n",
              "    .dataframe tbody tr th:only-of-type {\n",
              "        vertical-align: middle;\n",
              "    }\n",
              "\n",
              "    .dataframe tbody tr th {\n",
              "        vertical-align: top;\n",
              "    }\n",
              "\n",
              "    .dataframe thead th {\n",
              "        text-align: right;\n",
              "    }\n",
              "</style>\n",
              "<table border=\"1\" class=\"dataframe\">\n",
              "  <thead>\n",
              "    <tr style=\"text-align: right;\">\n",
              "      <th></th>\n",
              "      <th>country_code</th>\n",
              "      <th>country_name</th>\n",
              "      <th>wb_income</th>\n",
              "      <th>wb_region</th>\n",
              "      <th>skill_group_id</th>\n",
              "      <th>skill_group_category</th>\n",
              "      <th>skill_group_name</th>\n",
              "      <th>net_per_10K_2015</th>\n",
              "      <th>net_per_10K_2016</th>\n",
              "      <th>net_per_10K_2017</th>\n",
              "      <th>net_per_10K_2018</th>\n",
              "      <th>net_per_10K_2019</th>\n",
              "    </tr>\n",
              "  </thead>\n",
              "  <tbody>\n",
              "    <tr>\n",
              "      <th>0</th>\n",
              "      <td>af</td>\n",
              "      <td>Afghanistan</td>\n",
              "      <td>Low income</td>\n",
              "      <td>South Asia</td>\n",
              "      <td>2549</td>\n",
              "      <td>Tech Skills</td>\n",
              "      <td>Information Management</td>\n",
              "      <td>-791.59</td>\n",
              "      <td>-705.88</td>\n",
              "      <td>-550.04</td>\n",
              "      <td>-680.92</td>\n",
              "      <td>-1208.79</td>\n",
              "    </tr>\n",
              "    <tr>\n",
              "      <th>1</th>\n",
              "      <td>af</td>\n",
              "      <td>Afghanistan</td>\n",
              "      <td>Low income</td>\n",
              "      <td>South Asia</td>\n",
              "      <td>2608</td>\n",
              "      <td>Business Skills</td>\n",
              "      <td>Operational Efficiency</td>\n",
              "      <td>-1610.25</td>\n",
              "      <td>-933.55</td>\n",
              "      <td>-776.06</td>\n",
              "      <td>-532.22</td>\n",
              "      <td>-790.09</td>\n",
              "    </tr>\n",
              "    <tr>\n",
              "      <th>2</th>\n",
              "      <td>af</td>\n",
              "      <td>Afghanistan</td>\n",
              "      <td>Low income</td>\n",
              "      <td>South Asia</td>\n",
              "      <td>3806</td>\n",
              "      <td>Specialized Industry Skills</td>\n",
              "      <td>National Security</td>\n",
              "      <td>-1731.45</td>\n",
              "      <td>-769.68</td>\n",
              "      <td>-756.59</td>\n",
              "      <td>-600.44</td>\n",
              "      <td>-767.64</td>\n",
              "    </tr>\n",
              "    <tr>\n",
              "      <th>3</th>\n",
              "      <td>af</td>\n",
              "      <td>Afghanistan</td>\n",
              "      <td>Low income</td>\n",
              "      <td>South Asia</td>\n",
              "      <td>50321</td>\n",
              "      <td>Tech Skills</td>\n",
              "      <td>Software Testing</td>\n",
              "      <td>-957.50</td>\n",
              "      <td>-828.54</td>\n",
              "      <td>-964.73</td>\n",
              "      <td>-406.50</td>\n",
              "      <td>-739.51</td>\n",
              "    </tr>\n",
              "    <tr>\n",
              "      <th>4</th>\n",
              "      <td>af</td>\n",
              "      <td>Afghanistan</td>\n",
              "      <td>Low income</td>\n",
              "      <td>South Asia</td>\n",
              "      <td>1606</td>\n",
              "      <td>Specialized Industry Skills</td>\n",
              "      <td>Navy</td>\n",
              "      <td>-1510.71</td>\n",
              "      <td>-841.17</td>\n",
              "      <td>-842.32</td>\n",
              "      <td>-581.71</td>\n",
              "      <td>-718.64</td>\n",
              "    </tr>\n",
              "    <tr>\n",
              "      <th>...</th>\n",
              "      <td>...</td>\n",
              "      <td>...</td>\n",
              "      <td>...</td>\n",
              "      <td>...</td>\n",
              "      <td>...</td>\n",
              "      <td>...</td>\n",
              "      <td>...</td>\n",
              "      <td>...</td>\n",
              "      <td>...</td>\n",
              "      <td>...</td>\n",
              "      <td>...</td>\n",
              "      <td>...</td>\n",
              "    </tr>\n",
              "    <tr>\n",
              "      <th>17612</th>\n",
              "      <td>zw</td>\n",
              "      <td>Zimbabwe</td>\n",
              "      <td>Low income</td>\n",
              "      <td>Sub-Saharan Africa</td>\n",
              "      <td>12666</td>\n",
              "      <td>Specialized Industry Skills</td>\n",
              "      <td>Teaching</td>\n",
              "      <td>71.18</td>\n",
              "      <td>30.68</td>\n",
              "      <td>-18.85</td>\n",
              "      <td>-68.89</td>\n",
              "      <td>-93.70</td>\n",
              "    </tr>\n",
              "    <tr>\n",
              "      <th>17613</th>\n",
              "      <td>zw</td>\n",
              "      <td>Zimbabwe</td>\n",
              "      <td>Low income</td>\n",
              "      <td>Sub-Saharan Africa</td>\n",
              "      <td>1235</td>\n",
              "      <td>Specialized Industry Skills</td>\n",
              "      <td>Mining</td>\n",
              "      <td>8.97</td>\n",
              "      <td>-112.85</td>\n",
              "      <td>-35.87</td>\n",
              "      <td>-65.38</td>\n",
              "      <td>-93.46</td>\n",
              "    </tr>\n",
              "    <tr>\n",
              "      <th>17614</th>\n",
              "      <td>zw</td>\n",
              "      <td>Zimbabwe</td>\n",
              "      <td>Low income</td>\n",
              "      <td>Sub-Saharan Africa</td>\n",
              "      <td>43756</td>\n",
              "      <td>Specialized Industry Skills</td>\n",
              "      <td>Personal Coaching</td>\n",
              "      <td>-53.45</td>\n",
              "      <td>-59.70</td>\n",
              "      <td>-88.01</td>\n",
              "      <td>-55.90</td>\n",
              "      <td>-82.23</td>\n",
              "    </tr>\n",
              "    <tr>\n",
              "      <th>17615</th>\n",
              "      <td>zw</td>\n",
              "      <td>Zimbabwe</td>\n",
              "      <td>Low income</td>\n",
              "      <td>Sub-Saharan Africa</td>\n",
              "      <td>1724</td>\n",
              "      <td>Specialized Industry Skills</td>\n",
              "      <td>Public Health</td>\n",
              "      <td>15.25</td>\n",
              "      <td>-65.53</td>\n",
              "      <td>-57.22</td>\n",
              "      <td>-39.39</td>\n",
              "      <td>-32.14</td>\n",
              "    </tr>\n",
              "    <tr>\n",
              "      <th>17616</th>\n",
              "      <td>zw</td>\n",
              "      <td>Zimbabwe</td>\n",
              "      <td>Low income</td>\n",
              "      <td>Sub-Saharan Africa</td>\n",
              "      <td>172</td>\n",
              "      <td>Specialized Industry Skills</td>\n",
              "      <td>Law</td>\n",
              "      <td>40.85</td>\n",
              "      <td>47.16</td>\n",
              "      <td>-31.24</td>\n",
              "      <td>-8.24</td>\n",
              "      <td>-25.52</td>\n",
              "    </tr>\n",
              "  </tbody>\n",
              "</table>\n",
              "<p>17617 rows × 12 columns</p>\n",
              "</div>\n",
              "    <div class=\"colab-df-buttons\">\n",
              "\n",
              "  <div class=\"colab-df-container\">\n",
              "    <button class=\"colab-df-convert\" onclick=\"convertToInteractive('df-b049d8e2-e514-4aa1-8160-4d2e7b3c75b2')\"\n",
              "            title=\"Convert this dataframe to an interactive table.\"\n",
              "            style=\"display:none;\">\n",
              "\n",
              "  <svg xmlns=\"http://www.w3.org/2000/svg\" height=\"24px\" viewBox=\"0 -960 960 960\">\n",
              "    <path d=\"M120-120v-720h720v720H120Zm60-500h600v-160H180v160Zm220 220h160v-160H400v160Zm0 220h160v-160H400v160ZM180-400h160v-160H180v160Zm440 0h160v-160H620v160ZM180-180h160v-160H180v160Zm440 0h160v-160H620v160Z\"/>\n",
              "  </svg>\n",
              "    </button>\n",
              "\n",
              "  <style>\n",
              "    .colab-df-container {\n",
              "      display:flex;\n",
              "      gap: 12px;\n",
              "    }\n",
              "\n",
              "    .colab-df-convert {\n",
              "      background-color: #E8F0FE;\n",
              "      border: none;\n",
              "      border-radius: 50%;\n",
              "      cursor: pointer;\n",
              "      display: none;\n",
              "      fill: #1967D2;\n",
              "      height: 32px;\n",
              "      padding: 0 0 0 0;\n",
              "      width: 32px;\n",
              "    }\n",
              "\n",
              "    .colab-df-convert:hover {\n",
              "      background-color: #E2EBFA;\n",
              "      box-shadow: 0px 1px 2px rgba(60, 64, 67, 0.3), 0px 1px 3px 1px rgba(60, 64, 67, 0.15);\n",
              "      fill: #174EA6;\n",
              "    }\n",
              "\n",
              "    .colab-df-buttons div {\n",
              "      margin-bottom: 4px;\n",
              "    }\n",
              "\n",
              "    [theme=dark] .colab-df-convert {\n",
              "      background-color: #3B4455;\n",
              "      fill: #D2E3FC;\n",
              "    }\n",
              "\n",
              "    [theme=dark] .colab-df-convert:hover {\n",
              "      background-color: #434B5C;\n",
              "      box-shadow: 0px 1px 3px 1px rgba(0, 0, 0, 0.15);\n",
              "      filter: drop-shadow(0px 1px 2px rgba(0, 0, 0, 0.3));\n",
              "      fill: #FFFFFF;\n",
              "    }\n",
              "  </style>\n",
              "\n",
              "    <script>\n",
              "      const buttonEl =\n",
              "        document.querySelector('#df-b049d8e2-e514-4aa1-8160-4d2e7b3c75b2 button.colab-df-convert');\n",
              "      buttonEl.style.display =\n",
              "        google.colab.kernel.accessAllowed ? 'block' : 'none';\n",
              "\n",
              "      async function convertToInteractive(key) {\n",
              "        const element = document.querySelector('#df-b049d8e2-e514-4aa1-8160-4d2e7b3c75b2');\n",
              "        const dataTable =\n",
              "          await google.colab.kernel.invokeFunction('convertToInteractive',\n",
              "                                                    [key], {});\n",
              "        if (!dataTable) return;\n",
              "\n",
              "        const docLinkHtml = 'Like what you see? Visit the ' +\n",
              "          '<a target=\"_blank\" href=https://colab.research.google.com/notebooks/data_table.ipynb>data table notebook</a>'\n",
              "          + ' to learn more about interactive tables.';\n",
              "        element.innerHTML = '';\n",
              "        dataTable['output_type'] = 'display_data';\n",
              "        await google.colab.output.renderOutput(dataTable, element);\n",
              "        const docLink = document.createElement('div');\n",
              "        docLink.innerHTML = docLinkHtml;\n",
              "        element.appendChild(docLink);\n",
              "      }\n",
              "    </script>\n",
              "  </div>\n",
              "\n",
              "\n",
              "<div id=\"df-1df76132-5dbd-44fd-9648-535e8e4de9e4\">\n",
              "  <button class=\"colab-df-quickchart\" onclick=\"quickchart('df-1df76132-5dbd-44fd-9648-535e8e4de9e4')\"\n",
              "            title=\"Suggest charts.\"\n",
              "            style=\"display:none;\">\n",
              "\n",
              "<svg xmlns=\"http://www.w3.org/2000/svg\" height=\"24px\"viewBox=\"0 0 24 24\"\n",
              "     width=\"24px\">\n",
              "    <g>\n",
              "        <path d=\"M19 3H5c-1.1 0-2 .9-2 2v14c0 1.1.9 2 2 2h14c1.1 0 2-.9 2-2V5c0-1.1-.9-2-2-2zM9 17H7v-7h2v7zm4 0h-2V7h2v10zm4 0h-2v-4h2v4z\"/>\n",
              "    </g>\n",
              "</svg>\n",
              "  </button>\n",
              "\n",
              "<style>\n",
              "  .colab-df-quickchart {\n",
              "      --bg-color: #E8F0FE;\n",
              "      --fill-color: #1967D2;\n",
              "      --hover-bg-color: #E2EBFA;\n",
              "      --hover-fill-color: #174EA6;\n",
              "      --disabled-fill-color: #AAA;\n",
              "      --disabled-bg-color: #DDD;\n",
              "  }\n",
              "\n",
              "  [theme=dark] .colab-df-quickchart {\n",
              "      --bg-color: #3B4455;\n",
              "      --fill-color: #D2E3FC;\n",
              "      --hover-bg-color: #434B5C;\n",
              "      --hover-fill-color: #FFFFFF;\n",
              "      --disabled-bg-color: #3B4455;\n",
              "      --disabled-fill-color: #666;\n",
              "  }\n",
              "\n",
              "  .colab-df-quickchart {\n",
              "    background-color: var(--bg-color);\n",
              "    border: none;\n",
              "    border-radius: 50%;\n",
              "    cursor: pointer;\n",
              "    display: none;\n",
              "    fill: var(--fill-color);\n",
              "    height: 32px;\n",
              "    padding: 0;\n",
              "    width: 32px;\n",
              "  }\n",
              "\n",
              "  .colab-df-quickchart:hover {\n",
              "    background-color: var(--hover-bg-color);\n",
              "    box-shadow: 0 1px 2px rgba(60, 64, 67, 0.3), 0 1px 3px 1px rgba(60, 64, 67, 0.15);\n",
              "    fill: var(--button-hover-fill-color);\n",
              "  }\n",
              "\n",
              "  .colab-df-quickchart-complete:disabled,\n",
              "  .colab-df-quickchart-complete:disabled:hover {\n",
              "    background-color: var(--disabled-bg-color);\n",
              "    fill: var(--disabled-fill-color);\n",
              "    box-shadow: none;\n",
              "  }\n",
              "\n",
              "  .colab-df-spinner {\n",
              "    border: 2px solid var(--fill-color);\n",
              "    border-color: transparent;\n",
              "    border-bottom-color: var(--fill-color);\n",
              "    animation:\n",
              "      spin 1s steps(1) infinite;\n",
              "  }\n",
              "\n",
              "  @keyframes spin {\n",
              "    0% {\n",
              "      border-color: transparent;\n",
              "      border-bottom-color: var(--fill-color);\n",
              "      border-left-color: var(--fill-color);\n",
              "    }\n",
              "    20% {\n",
              "      border-color: transparent;\n",
              "      border-left-color: var(--fill-color);\n",
              "      border-top-color: var(--fill-color);\n",
              "    }\n",
              "    30% {\n",
              "      border-color: transparent;\n",
              "      border-left-color: var(--fill-color);\n",
              "      border-top-color: var(--fill-color);\n",
              "      border-right-color: var(--fill-color);\n",
              "    }\n",
              "    40% {\n",
              "      border-color: transparent;\n",
              "      border-right-color: var(--fill-color);\n",
              "      border-top-color: var(--fill-color);\n",
              "    }\n",
              "    60% {\n",
              "      border-color: transparent;\n",
              "      border-right-color: var(--fill-color);\n",
              "    }\n",
              "    80% {\n",
              "      border-color: transparent;\n",
              "      border-right-color: var(--fill-color);\n",
              "      border-bottom-color: var(--fill-color);\n",
              "    }\n",
              "    90% {\n",
              "      border-color: transparent;\n",
              "      border-bottom-color: var(--fill-color);\n",
              "    }\n",
              "  }\n",
              "</style>\n",
              "\n",
              "  <script>\n",
              "    async function quickchart(key) {\n",
              "      const quickchartButtonEl =\n",
              "        document.querySelector('#' + key + ' button');\n",
              "      quickchartButtonEl.disabled = true;  // To prevent multiple clicks.\n",
              "      quickchartButtonEl.classList.add('colab-df-spinner');\n",
              "      try {\n",
              "        const charts = await google.colab.kernel.invokeFunction(\n",
              "            'suggestCharts', [key], {});\n",
              "      } catch (error) {\n",
              "        console.error('Error during call to suggestCharts:', error);\n",
              "      }\n",
              "      quickchartButtonEl.classList.remove('colab-df-spinner');\n",
              "      quickchartButtonEl.classList.add('colab-df-quickchart-complete');\n",
              "    }\n",
              "    (() => {\n",
              "      let quickchartButtonEl =\n",
              "        document.querySelector('#df-1df76132-5dbd-44fd-9648-535e8e4de9e4 button');\n",
              "      quickchartButtonEl.style.display =\n",
              "        google.colab.kernel.accessAllowed ? 'block' : 'none';\n",
              "    })();\n",
              "  </script>\n",
              "</div>\n",
              "    </div>\n",
              "  </div>\n"
            ]
          },
          "metadata": {},
          "execution_count": 1
        }
      ]
    },
    {
      "cell_type": "markdown",
      "source": [
        "# Exercise 1\n",
        "\n",
        "---\n",
        "\\\n",
        "Write a function that will take the `skill_migration` dataframe as a parameter and will:\n",
        "*  filter for the rows where the `wb_income` contains `High income`.\n",
        "*  return the number of rows (length of the dataframe)."
      ],
      "metadata": {
        "id": "fL-D9LkmNr9g"
      }
    },
    {
      "cell_type": "code",
      "source": [
        "def filter_income(df):\n",
        "  # add code below to find the number of high income countries using the wb_income column\n",
        "  filtered = skill_migration[skill_migration['wb_income'] == 'High income']\n",
        "  return filtered['wb_income'].count()\n",
        "\n",
        "#run test to see if you are getting the correct row length\n",
        "actual = filter_income(skill_migration)\n",
        "expected = 8904\n",
        "\n",
        "if actual == expected:\n",
        "  print(\"Test passed!\\nExpected: {}\\nActual: {}\".format(expected, actual))\n",
        "else:\n",
        "  print(\"Test failed!\\nExpected: {}\\nActual: {}\".format(expected, actual))"
      ],
      "metadata": {
        "id": "IHHR1T1kOZmq",
        "outputId": "c8e8db28-5d3f-4fb3-f59e-2136bbb291c1",
        "colab": {
          "base_uri": "https://localhost:8080/"
        }
      },
      "execution_count": 4,
      "outputs": [
        {
          "output_type": "stream",
          "name": "stdout",
          "text": [
            "Test passed!\n",
            "Expected: 8904\n",
            "Actual: 8904\n"
          ]
        }
      ]
    },
    {
      "cell_type": "markdown",
      "source": [
        "# Exercise 2\n",
        "\n",
        "---\n",
        "\\\n",
        "Write a function that will take the `skill_migration` dataframe, and a particular type of `skill` (e.g. Tech skills) as parameters and will:\n",
        "*  filter for the rows that have a `skill_group_category` equal to the given `skill`.\n",
        "*  return the country that shows up the most in the `country_name` column of the filtered dataframe."
      ],
      "metadata": {
        "id": "rO3uDHEEPhIp"
      }
    },
    {
      "cell_type": "code",
      "source": [
        "import pandas as pd\n",
        "\n",
        "skill_migration = pd.read_excel('https://github.com/futureCodersSE/working-with-data/blob/main/Data%20sets/public_use-talent-migration.xlsx?raw=true', \"Skill Migration\")\n",
        "\n",
        "def filter_skills(df, skill):\n",
        "  # add code below to find all rows that have the skill 'skill' and return the most common country (mode)\n",
        "  filtered = skill_migration[skill_migration['skill_group_category'] == skill]\n",
        "  return filtered['country_name'].mode()\n",
        "\n",
        "\n",
        "\n",
        "#run test to see if you are getting the most frequent country name\n",
        "tests = [\n",
        "    { \"id\": 1, \"actual\": filter_skills(skill_migration, \"Tech Skills\")[0], \"expected\": \"Australia\" },\n",
        "    { \"id\": 2, \"actual\": filter_skills(skill_migration, \"Business Skills\")[0], \"expected\": \"Australia\" },\n",
        "    { \"id\": 3, \"actual\": filter_skills(skill_migration, \"Specialized Industry Skills\")[0], \"expected\": \"United Kingdom\" }\n",
        "]\n",
        "\n",
        "for test in tests:\n",
        "  if test[\"actual\"] == test[\"expected\"]:\n",
        "    print(\"Test {} passed!\\nExpected: {}\\nActual: {}\\n\".format(test[\"id\"], test[\"expected\"], test[\"actual\"]))\n",
        "  else:\n",
        "    print(\"Test {} failed!\\nExpected: {}\\nActual: {}\\n\".format(test[\"id\"], test[\"expected\"], test[\"actual\"]))"
      ],
      "metadata": {
        "id": "aYfnMp0RQ4Dr",
        "outputId": "bf4455c0-f8f0-48ed-b6bd-dd4742375c53",
        "colab": {
          "base_uri": "https://localhost:8080/"
        }
      },
      "execution_count": 7,
      "outputs": [
        {
          "output_type": "stream",
          "name": "stdout",
          "text": [
            "Test 1 passed!\n",
            "Expected: Australia\n",
            "Actual: Australia\n",
            "\n",
            "Test 2 passed!\n",
            "Expected: Australia\n",
            "Actual: Australia\n",
            "\n",
            "Test 3 passed!\n",
            "Expected: United Kingdom\n",
            "Actual: United Kingdom\n",
            "\n"
          ]
        }
      ]
    },
    {
      "cell_type": "markdown",
      "source": [
        "# Exercise 3\n",
        "\n",
        "---\n",
        "\\\n",
        "Write a function that will take the `skill_migration` dataframe as a parameter and will:\n",
        "*  filter, using two conditions, for the rows where `skill_group_id` is `2265` and `net_per_10K_2019` is greater than `-500`.\n",
        "*  sort the rows in ascending order based on `net_per_10K_2019`\n",
        "*  return the first 5 rows."
      ],
      "metadata": {
        "id": "hs4N75oOQ5vy"
      }
    },
    {
      "cell_type": "code",
      "source": [
        "def filter_skill_id(df):\n",
        "  # add code below to find all rows that the skill id 2265 with greater than -500 migration and return the first 5 rows when sorted into order of net_per_10K_2019\n",
        "  filtered = skill_migration[(skill_migration['skill_group_id'] == 2265) & (skill_migration['net_per_10K_2019'] >= -500)]\n",
        "  sorted = filtered.sort_values(by = 'net_per_10K_2019', ascending = True)\n",
        "  return sorted.head(5)\n",
        "\n",
        "\n",
        "\n",
        "#run test to see if you are getting the correct first row and only returning 5 items\n",
        "filtered_df = filter_skill_id(skill_migration)\n",
        "actual1 = filtered_df.index[0]\n",
        "expected1 = 14550\n",
        "actual2 = len(filtered_df)\n",
        "expected2 = 5\n",
        "\n",
        "if actual1 == expected1 and actual2 == expected2:\n",
        "  print(\"Test passed!\\nExpected: {} & {}\\nActual: {} & {}\".format(expected1, expected2, actual1, actual2))\n",
        "else:\n",
        "  print(\"Test failed!\\nExpected: {} & {}\\nActual: {} & {}\".format(expected1, expected2, actual1, actual2))"
      ],
      "metadata": {
        "id": "eYuGy4UXQ4um",
        "outputId": "fb25f32b-1858-4210-d0d6-1bd50bc6895c",
        "colab": {
          "base_uri": "https://localhost:8080/"
        }
      },
      "execution_count": 11,
      "outputs": [
        {
          "output_type": "stream",
          "name": "stdout",
          "text": [
            "Test passed!\n",
            "Expected: 14550 & 5\n",
            "Actual: 14550 & 5\n"
          ]
        }
      ]
    },
    {
      "cell_type": "markdown",
      "source": [
        "# Exercise 4\n",
        "\n",
        "---\n",
        "\\\n",
        "Write a function that will take the country_migration dataframe and an amount of net per 10K migrations as parameters and will:\n",
        "*  filter for all rows with a `net_per_10K_2019` less than `amount`\n",
        "*  return the number of rows.\n",
        "\n"
      ],
      "metadata": {
        "id": "br8aWPZvRnhA"
      }
    },
    {
      "cell_type": "code",
      "source": [
        "def filter_net_per_10k(df, amount):\n",
        "  # add code below to find all the rows where the net_per_10K_2019 is less than the `amount` parameter\n",
        "\n",
        "\n",
        "\n",
        "#run test to see if you are getting the correct first row and only returning 5 items\n",
        "tests = [\n",
        "    { \"id\": 1, \"actual\": filter_net_per_10k(country_migration, 100), \"expected\": 4148 },\n",
        "    { \"id\": 2, \"actual\": filter_net_per_10k(country_migration, 0), \"expected\": 1980 },\n",
        "    { \"id\": 3, \"actual\": filter_net_per_10k(country_migration, -100), \"expected\": 0 }\n",
        "]\n",
        "\n",
        "for test in tests:\n",
        "  if test[\"actual\"] == test[\"expected\"]:\n",
        "    print(\"Test {} passed!\\nExpected: {}\\nActual: {}\\n\".format(test[\"id\"], test[\"expected\"], test[\"actual\"]))\n",
        "  else:\n",
        "    print(\"Test {} failed!\\nExpected: {}\\nActual: {}\\n\".format(test[\"id\"], test[\"expected\"], test[\"actual\"]))"
      ],
      "metadata": {
        "id": "6qL6UNVBRo80"
      },
      "execution_count": null,
      "outputs": []
    },
    {
      "cell_type": "markdown",
      "source": [
        "# Exercise 5\n",
        "\n",
        "---\n",
        "\\\n",
        "Write a function that will take the `country_migration` dataframe as a parameter and will:\n",
        "*  filter for all rows that have a `net_per_10K_2015` & `net_per_10K_2016` greater than `50`.\n",
        "*  return the number of rows"
      ],
      "metadata": {
        "id": "lFXbG6c2SUik"
      }
    },
    {
      "cell_type": "code",
      "source": [
        "def filter_two_net(df):\n",
        "  # add code below to find rows which have migration in 2015 & 2016 greater than 50\n",
        "\n",
        "\n",
        "\n",
        "#run test to see if you are getting the correct length of rows\n",
        "actual = filter_two_net(country_migration)\n",
        "expected = 3\n",
        "\n",
        "if actual == expected:\n",
        "  print(\"Test passed!\\nExpected: {}\\nActual: {}\".format(expected, actual))\n",
        "else:\n",
        "  print(\"Test failed!\\nExpected: {}\\nActual: {}\".format(expected, actual))"
      ],
      "metadata": {
        "id": "CxfijlHGSW60"
      },
      "execution_count": null,
      "outputs": []
    },
    {
      "cell_type": "markdown",
      "source": [
        "# Exercise 6\n",
        "\n",
        "---\n",
        "\\\n",
        "Write a function that will take the `country_migration` dataframe as a parameter and will:\n",
        "*  filter for all migrations from countries with `Low Income` to countries with `Upper Middle Income`and within the same region ( `base_country_wb_region` is the same as `target_country_wb_region`)\n",
        "*  display the number of rows."
      ],
      "metadata": {
        "id": "OJuBYhzaS3r1"
      }
    },
    {
      "cell_type": "code",
      "source": [
        "def filter_two_income(df):\n",
        "  # add code below to find all rows of migration from low income to upper middle income and where migration was to the same region\n",
        "\n",
        "\n",
        "\n",
        "#run test to see if you are getting the correct first length of rows\n",
        "actual = filter_two_income(country_migration)\n",
        "expected = 15\n",
        "\n",
        "if actual == expected:\n",
        "  print(\"Test passed!\\nExpected: {}\\nActual: {}\".format(expected, actual))\n",
        "else:\n",
        "  print(\"Test failed!\\nExpected: {}\\nActual: {}\".format(expected, actual))"
      ],
      "metadata": {
        "id": "Wq0i2dCYTPxE"
      },
      "execution_count": null,
      "outputs": []
    },
    {
      "cell_type": "markdown",
      "source": [
        "# Exercise 7\n",
        "\n",
        "---\n",
        "\\\n",
        "Write a function that will take the `industry_migration` dataframe as a parameter and will:\n",
        "*  filter for all rows which have a `isic_section_index` of `M` and the `industry_name`,  `Biotechnology`\n",
        "*  return the number of rows."
      ],
      "metadata": {
        "id": "aDvp-O4LTXbp"
      }
    },
    {
      "cell_type": "code",
      "source": [
        "def filter_industry(df):\n",
        "  # add code below to find all the rows from biotechnology industry with isic section index of M\n",
        "\n",
        "\n",
        "\n",
        "#run test to see if you are getting the correct length of rows\n",
        "actual = filter_industry(industry_migration)\n",
        "expected = 32\n",
        "\n",
        "if actual == expected:\n",
        "  print(\"Test passed!\\nExpected: {}\\nActual: {}\".format(expected, actual))\n",
        "else:\n",
        "  print(\"Test failed!\\nExpected: {}\\nActual: {}\".format(expected, actual))"
      ],
      "metadata": {
        "id": "n_V5moucTRnP"
      },
      "execution_count": null,
      "outputs": []
    },
    {
      "cell_type": "markdown",
      "source": [
        "# Exercise 8\n",
        "\n",
        "---\n",
        "\\\n",
        "Write a function that will take the `industry_migration` dataframe as a parameter and will:\n",
        "*  filter for all rows with `industry_name` of `Computer Software` that have a `wb_income` of `Low income`.\n",
        "*  return the filtered dataframe"
      ],
      "metadata": {
        "id": "Pu-V4x7oTXg3"
      }
    },
    {
      "cell_type": "code",
      "source": [
        "def filter_industry_income(df):\n",
        "  # add code below to find Low Income Computer Software migrations, return the full set of filtered data\n",
        "\n",
        "\n",
        "\n",
        "#run test to see if you are getting the correct first row and only returning 1 item\n",
        "filtered_df = filter_industry_income(industry_migration)\n",
        "actual1 = filtered_df.index[0]\n",
        "expected1 = 3699\n",
        "actual2 = len(filtered_df)\n",
        "expected2 = 1\n",
        "\n",
        "if actual1 == expected1 and actual2 == expected2:\n",
        "  print(\"Test passed!\\nExpected: {} & {}\\nActual: {} & {}\".format(expected1, expected2, actual1, actual2))\n",
        "else:\n",
        "  print(\"Test failed!\\nExpected: {} & {}\\nActual: {} & {}\".format(expected1, expected2, actual1, actual2))"
      ],
      "metadata": {
        "id": "WqVliNlGTWXV"
      },
      "execution_count": null,
      "outputs": []
    },
    {
      "cell_type": "markdown",
      "source": [
        "# Exercise 9\n",
        "\n",
        "---\n",
        "\\\n",
        "Write a function that will take the `industry_migration` dataframe as a parameter and will:\n",
        "*  filter for all rows with `country_name` of United States or United Kingdom and a `isic_section_index` of M\n",
        "*  return the average of `net_per_10K_2015`."
      ],
      "metadata": {
        "id": "O7o6mgU2TXl_"
      }
    },
    {
      "cell_type": "code",
      "source": [
        "def filter_country(df):\n",
        "  # add code below to find all USA and UK rows which have ISIC of M and return mean migration in 2015\n",
        "\n",
        "\n",
        "\n",
        "#run test to see if you are getting the correct average\n",
        "actual = round(filter_country(industry_migration), 2)\n",
        "expected = 47.28\n",
        "\n",
        "if actual == expected:\n",
        "  print(\"Test passed!\\nExpected: {}\\nActual: {}\".format(expected, actual))\n",
        "else:\n",
        "  print(\"Test failed!\\nExpected: {}\\nActual: {}\".format(expected, actual))"
      ],
      "metadata": {
        "id": "izOkixeATWd_"
      },
      "execution_count": null,
      "outputs": []
    },
    {
      "cell_type": "markdown",
      "source": [
        "# Exercise 10\n",
        "---\n",
        "\\\n",
        "Write a function that will take the `country_migration` dataframe and a base region as paramters and will:\n",
        "*  filter for all migrations to Upper Middle Income and High Income regions (`target_country_wb_income`) from the given region (`base_country_wb_region`)"
      ],
      "metadata": {
        "id": "5tRpo0nz_8I7"
      }
    },
    {
      "cell_type": "code",
      "source": [
        "def filter_migrations(df, region):\n",
        "\n",
        "\n",
        "\n",
        "# run test to see if you are getting the correct result\n",
        "actual = filter_migrations(country_migration, \"Middle East & North Africa\")\n",
        "expected = 432\n",
        "if actual == expected:\n",
        "  print(\"Test passed!\\nExpected: {}\\nActual: {}\".format(expected, actual))\n",
        "else:\n",
        "  print(\"Test failed!\\nExpected: {}\\nActual: {}\".format(expected, actual))"
      ],
      "metadata": {
        "id": "LgpA-IDkANsa"
      },
      "execution_count": null,
      "outputs": []
    },
    {
      "cell_type": "markdown",
      "metadata": {
        "id": "yQyytEbnZ1lw"
      },
      "source": [
        "# Reflection\n",
        "----\n",
        "\n",
        "## What skills have you demonstrated in completing this notebook?"
      ]
    },
    {
      "cell_type": "markdown",
      "metadata": {
        "id": "MM00hR5aZk1-"
      },
      "source": [
        "Your answer:"
      ]
    },
    {
      "cell_type": "markdown",
      "metadata": {
        "id": "Zgexd27sZ1ly"
      },
      "source": [
        "## What caused you the most difficulty?"
      ]
    },
    {
      "cell_type": "markdown",
      "metadata": {
        "id": "-Y_nrVBwaGXr"
      },
      "source": [
        "Your answer:"
      ]
    }
  ]
}